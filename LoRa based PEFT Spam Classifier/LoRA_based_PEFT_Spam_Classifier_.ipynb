{
  "cells": [
    {
      "cell_type": "markdown",
      "id": "f35354cd",
      "metadata": {
        "id": "f35354cd"
      },
      "source": [
        "## Goal:  Lightweight Fine-Tuning Project"
      ]
    },
    {
      "cell_type": "markdown",
      "id": "c7aeea1b",
      "metadata": {
        "id": "c7aeea1b"
      },
      "source": [
        "# AI Workflow Decisions\n",
        "\n",
        "PEFT technique: LoRA (Low-Rank Adaptation), as it is lightweight and compatible with most Hugging Face models  \n",
        "Model: distilbert-base-uncased (a compact, fast, and widely supported transformer model for classification tasks)  \n",
        "Evaluation approach: Accuracy using the Hugging Face Trainer API  \n",
        "Fine-tuning dataset: sms_spam (binary classification of SMS messages as spam or not spam)  \n"
      ]
    },
    {
      "cell_type": "code",
      "execution_count": null,
      "id": "4935cb4d",
      "metadata": {
        "colab": {
          "referenced_widgets": [
            "0d2a1d8b5dae4393b96b98dc28f8c8b7",
            "adae987bcc614e2da44e80a7dfc23059",
            "83265e1d349b486db7582e77d1179366",
            "3e18aa2b54fe413bb88817e3b84e20c7",
            "1b3333fddf1a4135be0592eda442accf",
            "68bd288bb8a54f6d9f37f2e9ba7e4c5e",
            "21b41d0f252f47eea4bbe8c760a11fb3",
            "234dc18017fc47a59f79a66d5c1a2f18",
            "df03b6e3c2c6486898740c9ee104acf7"
          ]
        },
        "id": "4935cb4d",
        "outputId": "7c11ef8f-01b4-46ff-e874-fea262d35afa"
      },
      "outputs": [
        {
          "data": {
            "application/vnd.jupyter.widget-view+json": {
              "model_id": "0d2a1d8b5dae4393b96b98dc28f8c8b7",
              "version_major": 2,
              "version_minor": 0
            },
            "text/plain": [
              "Downloading readme: 0.00B [00:00, ?B/s]"
            ]
          },
          "metadata": {},
          "output_type": "display_data"
        },
        {
          "name": "stderr",
          "output_type": "stream",
          "text": [
            "Downloading data: 100%|██████████| 359k/359k [00:00<00:00, 1.43MB/s]\n"
          ]
        },
        {
          "data": {
            "application/vnd.jupyter.widget-view+json": {
              "model_id": "adae987bcc614e2da44e80a7dfc23059",
              "version_major": 2,
              "version_minor": 0
            },
            "text/plain": [
              "Generating train split:   0%|          | 0/5574 [00:00<?, ? examples/s]"
            ]
          },
          "metadata": {},
          "output_type": "display_data"
        },
        {
          "data": {
            "application/vnd.jupyter.widget-view+json": {
              "model_id": "83265e1d349b486db7582e77d1179366",
              "version_major": 2,
              "version_minor": 0
            },
            "text/plain": [
              "tokenizer_config.json:   0%|          | 0.00/48.0 [00:00<?, ?B/s]"
            ]
          },
          "metadata": {},
          "output_type": "display_data"
        },
        {
          "data": {
            "application/vnd.jupyter.widget-view+json": {
              "model_id": "3e18aa2b54fe413bb88817e3b84e20c7",
              "version_major": 2,
              "version_minor": 0
            },
            "text/plain": [
              "config.json:   0%|          | 0.00/483 [00:00<?, ?B/s]"
            ]
          },
          "metadata": {},
          "output_type": "display_data"
        },
        {
          "data": {
            "application/vnd.jupyter.widget-view+json": {
              "model_id": "1b3333fddf1a4135be0592eda442accf",
              "version_major": 2,
              "version_minor": 0
            },
            "text/plain": [
              "vocab.txt:   0%|          | 0.00/232k [00:00<?, ?B/s]"
            ]
          },
          "metadata": {},
          "output_type": "display_data"
        },
        {
          "data": {
            "application/vnd.jupyter.widget-view+json": {
              "model_id": "68bd288bb8a54f6d9f37f2e9ba7e4c5e",
              "version_major": 2,
              "version_minor": 0
            },
            "text/plain": [
              "tokenizer.json:   0%|          | 0.00/466k [00:00<?, ?B/s]"
            ]
          },
          "metadata": {},
          "output_type": "display_data"
        },
        {
          "data": {
            "application/vnd.jupyter.widget-view+json": {
              "model_id": "21b41d0f252f47eea4bbe8c760a11fb3",
              "version_major": 2,
              "version_minor": 0
            },
            "text/plain": [
              "Map:   0%|          | 0/4459 [00:00<?, ? examples/s]"
            ]
          },
          "metadata": {},
          "output_type": "display_data"
        },
        {
          "data": {
            "application/vnd.jupyter.widget-view+json": {
              "model_id": "234dc18017fc47a59f79a66d5c1a2f18",
              "version_major": 2,
              "version_minor": 0
            },
            "text/plain": [
              "Map:   0%|          | 0/1115 [00:00<?, ? examples/s]"
            ]
          },
          "metadata": {},
          "output_type": "display_data"
        },
        {
          "data": {
            "application/vnd.jupyter.widget-view+json": {
              "model_id": "df03b6e3c2c6486898740c9ee104acf7",
              "version_major": 2,
              "version_minor": 0
            },
            "text/plain": [
              "model.safetensors:   0%|          | 0.00/268M [00:00<?, ?B/s]"
            ]
          },
          "metadata": {},
          "output_type": "display_data"
        },
        {
          "name": "stderr",
          "output_type": "stream",
          "text": [
            "Some weights of DistilBertForSequenceClassification were not initialized from the model checkpoint at distilbert-base-uncased and are newly initialized: ['classifier.bias', 'pre_classifier.weight', 'pre_classifier.bias', 'classifier.weight']\n",
            "You should probably TRAIN this model on a down-stream task to be able to use it for predictions and inference.\n"
          ]
        }
      ],
      "source": [
        "from datasets import load_dataset\n",
        "from transformers import AutoTokenizer, AutoModelForSequenceClassification, Trainer, TrainingArguments\n",
        "import numpy as np\n",
        "from transformers import DataCollatorWithPadding\n",
        "\n",
        "# Loading dataset and split\n",
        "dataset = load_dataset(\"sms_spam\", split=\"train\").train_test_split(test_size=0.2, seed=42)\n",
        "\n",
        "# Labels: 0 = not spam, 1 = spam\n",
        "id2label = {0: \"not spam\", 1: \"spam\"}\n",
        "label2id = {\"not spam\": 0, \"spam\": 1}\n",
        "\n",
        "# Loading tokenizer\n",
        "tokenizer = AutoTokenizer.from_pretrained(\"distilbert-base-uncased\")\n",
        "\n",
        "# Tokenization function\n",
        "def tokenize_function(examples):\n",
        "    return tokenizer(examples[\"sms\"], truncation=True, padding=True)\n",
        "\n",
        "tokenized_dataset = dataset.map(tokenize_function, batched=True)\n",
        "\n",
        "# Loading base model\n",
        "base_model = AutoModelForSequenceClassification.from_pretrained(\n",
        "    \"distilbert-base-uncased\",\n",
        "    num_labels=2,\n",
        "    id2label=id2label,\n",
        "    label2id=label2id\n",
        ")\n",
        "\n"
      ]
    },
    {
      "cell_type": "markdown",
      "id": "9b70268c",
      "metadata": {
        "id": "9b70268c"
      },
      "source": [
        "### Creating a Copy of the Baseline model before applying Lora"
      ]
    },
    {
      "cell_type": "code",
      "execution_count": null,
      "id": "54d26a3a",
      "metadata": {
        "id": "54d26a3a"
      },
      "outputs": [],
      "source": [
        "import copy\n",
        "\n",
        "# Save a separate copy of the base model for clean baseline evaluation\n",
        "base_model_copy = copy.deepcopy(base_model)\n",
        "\n"
      ]
    },
    {
      "cell_type": "markdown",
      "id": "3a1ae6bd",
      "metadata": {
        "id": "3a1ae6bd"
      },
      "source": [
        "### Baseline Model Evals"
      ]
    },
    {
      "cell_type": "code",
      "execution_count": null,
      "id": "7c053af6",
      "metadata": {
        "id": "7c053af6",
        "outputId": "a139af10-d69a-448f-ee44-eefdd16415e7"
      },
      "outputs": [
        {
          "name": "stderr",
          "output_type": "stream",
          "text": [
            "You're using a DistilBertTokenizerFast tokenizer. Please note that with a fast tokenizer, using the `__call__` method is faster than using a method to encode the text followed by a call to the `pad` method to get a padded encoding.\n"
          ]
        },
        {
          "data": {
            "text/html": [
              "\n",
              "    <div>\n",
              "      \n",
              "      <progress value='140' max='70' style='width:300px; height:20px; vertical-align: middle;'></progress>\n",
              "      [70/70 02:50]\n",
              "    </div>\n",
              "    "
            ],
            "text/plain": [
              "<IPython.core.display.HTML object>"
            ]
          },
          "metadata": {},
          "output_type": "display_data"
        }
      ],
      "source": [
        "\n",
        "# Computing metrics\n",
        "def compute_metrics(eval_pred):\n",
        "    predictions, labels = eval_pred\n",
        "    preds = np.argmax(predictions, axis=1)\n",
        "    return {\"accuracy\": (preds == labels).mean()}\n",
        "\n",
        "\n",
        "\n",
        "# Baseline evaluation trainer\n",
        "baseline_trainer = Trainer(\n",
        "    model=base_model_copy,\n",
        "    args=TrainingArguments(\n",
        "        output_dir=\"./baseline_eval\",\n",
        "        per_device_eval_batch_size=16,\n",
        "        report_to=\"none\"\n",
        "    ),\n",
        "    eval_dataset=tokenized_dataset[\"test\"],\n",
        "    tokenizer=tokenizer,\n",
        "    data_collator=DataCollatorWithPadding(tokenizer),\n",
        "    compute_metrics=compute_metrics\n",
        ")\n",
        "\n",
        "# Evaluate baseline model before fine-tuning\n",
        "base_results = baseline_trainer.evaluate()\n"
      ]
    },
    {
      "cell_type": "markdown",
      "id": "4d52a229",
      "metadata": {
        "id": "4d52a229"
      },
      "source": [
        "## Performing Parameter-Efficient Fine-Tuning\n"
      ]
    },
    {
      "cell_type": "code",
      "execution_count": null,
      "id": "5775fadf",
      "metadata": {
        "id": "5775fadf",
        "outputId": "183b9796-6205-434c-d794-b2e6fbd0f46d"
      },
      "outputs": [
        {
          "name": "stdout",
          "output_type": "stream",
          "text": [
            "trainable params: 1,331,716 || all params: 67,694,596 || trainable%: 1.967241225577297\n"
          ]
        },
        {
          "data": {
            "text/html": [
              "\n",
              "    <div>\n",
              "      \n",
              "      <progress value='558' max='558' style='width:300px; height:20px; vertical-align: middle;'></progress>\n",
              "      [558/558 02:15, Epoch 2/2]\n",
              "    </div>\n",
              "    <table border=\"1\" class=\"dataframe\">\n",
              "  <thead>\n",
              " <tr style=\"text-align: left;\">\n",
              "      <th>Epoch</th>\n",
              "      <th>Training Loss</th>\n",
              "      <th>Validation Loss</th>\n",
              "      <th>Accuracy</th>\n",
              "    </tr>\n",
              "  </thead>\n",
              "  <tbody>\n",
              "    <tr>\n",
              "      <td>1</td>\n",
              "      <td>No log</td>\n",
              "      <td>0.106433</td>\n",
              "      <td>0.973991</td>\n",
              "    </tr>\n",
              "    <tr>\n",
              "      <td>2</td>\n",
              "      <td>0.192300</td>\n",
              "      <td>0.067775</td>\n",
              "      <td>0.980269</td>\n",
              "    </tr>\n",
              "  </tbody>\n",
              "</table><p>"
            ],
            "text/plain": [
              "<IPython.core.display.HTML object>"
            ]
          },
          "metadata": {},
          "output_type": "display_data"
        },
        {
          "data": {
            "text/plain": [
              "('lora_model/tokenizer_config.json',\n",
              " 'lora_model/special_tokens_map.json',\n",
              " 'lora_model/vocab.txt',\n",
              " 'lora_model/added_tokens.json',\n",
              " 'lora_model/tokenizer.json')"
            ]
          },
          "execution_count": 5,
          "metadata": {},
          "output_type": "execute_result"
        }
      ],
      "source": [
        "from peft import LoraConfig, get_peft_model\n",
        "\n",
        "# Creating LoRA config\n",
        "lora_config = LoraConfig(\n",
        "    r=8,\n",
        "    lora_alpha=16,\n",
        "    target_modules=[\"q_lin\", \"v_lin\"],  # based on DistilBERT internals\n",
        "    lora_dropout=0.1,\n",
        "    bias=\"none\",\n",
        "    task_type=\"SEQ_CLS\"\n",
        ")\n",
        "\n",
        "\n",
        "# Applying LoRA to base model\n",
        "peft_model = get_peft_model(base_model, lora_config)\n",
        "\n",
        "# Showing trainable parameters\n",
        "peft_model.print_trainable_parameters()\n",
        "\n",
        "# Training PEFT model\n",
        "peft_trainer = Trainer(\n",
        "    model=peft_model,\n",
        "    args=TrainingArguments(\n",
        "        output_dir=\"/tmp/peft_model\",\n",
        "        per_device_train_batch_size=16,\n",
        "        per_device_eval_batch_size=16,\n",
        "        learning_rate=2e-5,\n",
        "        num_train_epochs=2,\n",
        "        evaluation_strategy=\"epoch\",\n",
        "        save_strategy=\"epoch\",\n",
        "        load_best_model_at_end=True,\n",
        "        report_to=\"none\"\n",
        "    ),\n",
        "    train_dataset=tokenized_dataset[\"train\"],\n",
        "    eval_dataset=tokenized_dataset[\"test\"],\n",
        "    tokenizer=tokenizer,\n",
        "    data_collator=DataCollatorWithPadding(tokenizer),\n",
        "    compute_metrics=compute_metrics\n",
        ")\n",
        "\n",
        "# Starting training\n",
        "peft_trainer.train()\n",
        "\n",
        "# Saving PEFT model (to /tmp to avoid workspace crash)\n",
        "# Changed the save path\n",
        "peft_model.save_pretrained(\"lora_model\")\n",
        "tokenizer.save_pretrained(\"lora_model\")\n",
        "\n"
      ]
    },
    {
      "cell_type": "markdown",
      "id": "615b12c6",
      "metadata": {
        "id": "615b12c6"
      },
      "source": [
        "## Performing Inference with a PEFT Model\n",
        "\n"
      ]
    },
    {
      "cell_type": "code",
      "execution_count": null,
      "id": "863ec66e",
      "metadata": {
        "id": "863ec66e",
        "outputId": "f8be3902-ee92-464c-f3c2-86324faf989e"
      },
      "outputs": [
        {
          "name": "stderr",
          "output_type": "stream",
          "text": [
            "Some weights of DistilBertForSequenceClassification were not initialized from the model checkpoint at distilbert-base-uncased and are newly initialized: ['classifier.bias', 'pre_classifier.weight', 'pre_classifier.bias', 'classifier.weight']\n",
            "You should probably TRAIN this model on a down-stream task to be able to use it for predictions and inference.\n"
          ]
        },
        {
          "name": "stdout",
          "output_type": "stream",
          "text": [
            "📊 PEFT model performance:\n"
          ]
        },
        {
          "data": {
            "text/html": [
              "\n",
              "    <div>\n",
              "      \n",
              "      <progress value='140' max='70' style='width:300px; height:20px; vertical-align: middle;'></progress>\n",
              "      [70/70 00:21]\n",
              "    </div>\n",
              "    "
            ],
            "text/plain": [
              "<IPython.core.display.HTML object>"
            ]
          },
          "metadata": {},
          "output_type": "display_data"
        },
        {
          "data": {
            "text/plain": [
              "{'eval_loss': 0.06777454912662506,\n",
              " 'eval_accuracy': 0.9802690582959641,\n",
              " 'eval_runtime': 5.9472,\n",
              " 'eval_samples_per_second': 187.483,\n",
              " 'eval_steps_per_second': 11.77}"
            ]
          },
          "execution_count": 6,
          "metadata": {},
          "output_type": "execute_result"
        }
      ],
      "source": [
        "from peft import AutoPeftModelForSequenceClassification\n",
        "\n",
        "# Loading the saved PEFT model\n",
        "\n",
        "reloaded_model = AutoPeftModelForSequenceClassification.from_pretrained(\"lora_model\")\n",
        "\n",
        "\n",
        "# New trainer with reloaded model\n",
        "peft_reloaded_trainer = Trainer(\n",
        "    model=reloaded_model,\n",
        "    args=TrainingArguments(\n",
        "        output_dir=\"/tmp/peft_model_eval\",\n",
        "        per_device_eval_batch_size=16,\n",
        "        report_to=\"none\"\n",
        "    ),\n",
        "    eval_dataset=tokenized_dataset[\"test\"],\n",
        "    tokenizer=tokenizer,\n",
        "    data_collator=DataCollatorWithPadding(tokenizer),\n",
        "    compute_metrics=compute_metrics\n",
        ")\n",
        "\n",
        "# Evaluating fine-tuned PEFT model\n",
        "print(\"📊 PEFT model performance:\")\n",
        "peft_reloaded_trainer.evaluate()\n"
      ]
    },
    {
      "cell_type": "markdown",
      "id": "6829a587",
      "metadata": {
        "id": "6829a587"
      },
      "source": [
        "### Baseline Model vs Peft Model Evals Comparison"
      ]
    },
    {
      "cell_type": "code",
      "execution_count": null,
      "id": "89b6e6ed",
      "metadata": {
        "id": "89b6e6ed",
        "outputId": "11ff6424-23be-4e51-d20d-3f2a203e0241"
      },
      "outputs": [
        {
          "name": "stdout",
          "output_type": "stream",
          "text": [
            "🔍 Comparing base vs. fine-tuned model:\n",
            "Base Model Accuracy: 0.8080717488789237\n",
            "PEFT Model Accuracy: 0.9802690582959641\n"
          ]
        }
      ],
      "source": [
        "print(\"🔍 Comparing base vs. fine-tuned model:\")\n",
        "base_results = baseline_trainer.evaluate()   # ✅ Use this instead\n",
        "peft_results = peft_reloaded_trainer.evaluate()\n",
        "\n",
        "print(\"Base Model Accuracy:\", base_results[\"eval_accuracy\"])\n",
        "print(\"PEFT Model Accuracy:\", peft_results[\"eval_accuracy\"])\n"
      ]
    },
    {
      "cell_type": "markdown",
      "id": "2f29f7bb",
      "metadata": {
        "id": "2f29f7bb"
      },
      "source": [
        "# What The Results Mean\n",
        "\n",
        "The baseline model performed reasonably well without any task-specific tuning.\n",
        "\n",
        "After parameter-efficient fine-tuning using LoRA, the model’s accuracy significantly improved — from ~81% to ~98%.\n",
        "\n",
        "This proves the effectiveness of LoRA in improving model performance while updating only a small fraction of parameters (a major advantage when working with limited compute).\n",
        "\n",
        "\n",
        "\n"
      ]
    }
  ],
  "metadata": {
    "kernelspec": {
      "display_name": "Python 3 (ipykernel)",
      "language": "python",
      "name": "python3"
    },
    "language_info": {
      "codemirror_mode": {
        "name": "ipython",
        "version": 3
      },
      "file_extension": ".py",
      "mimetype": "text/x-python",
      "name": "python",
      "nbconvert_exporter": "python",
      "pygments_lexer": "ipython3",
      "version": "3.10.11"
    },
    "colab": {
      "provenance": []
    }
  },
  "nbformat": 4,
  "nbformat_minor": 5
}