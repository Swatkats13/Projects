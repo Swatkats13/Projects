{
  "cells": [
    {
      "cell_type": "markdown",
      "id": "767e4e3e",
      "metadata": {
        "id": "767e4e3e"
      },
      "source": [
        "# Vector Database Basics\n",
        "\n",
        "Vector databases help us store, manage, and query the embeddings we created for generative AI, recommenders, and search engines.\n",
        "\n",
        "Across many of the common use cases, users often find that they need to manage more than just vectors.\n",
        "To make it easier for practitioners, vector databases should store and manage all of the data they need:\n",
        "- embedding vectors\n",
        "- categorical metadata\n",
        "- numerical metadata\n",
        "- timeseries metadata\n",
        "- text / pdf / images / video / point clouds\n",
        "\n",
        "And support a wide range of query workloads:\n",
        "- Vector search (may require ANN-index)\n",
        "- Keyword search (requires full text search index)\n",
        "- SQL (for filtering)\n",
        "\n",
        "For this exercise we'll use LanceDB since it's open source and easy to setup"
      ]
    },
    {
      "cell_type": "code",
      "execution_count": null,
      "id": "d8216d53-e83f-4d4f-8185-06c36ed80a3f",
      "metadata": {
        "id": "d8216d53-e83f-4d4f-8185-06c36ed80a3f"
      },
      "outputs": [],
      "source": [
        "# pip install -U --quiet lancedb pandas pydantic"
      ]
    },
    {
      "cell_type": "markdown",
      "id": "7056be41",
      "metadata": {
        "id": "7056be41"
      },
      "source": [
        "## Creating tables and adding data\n",
        "\n",
        "Let's create a LanceDB table called `cats_and_dogs` under the local database directory `~/.lancedb`.\n",
        "This table should have 4 fields:\n",
        "- the embedding vector\n",
        "- a string field indicating the species (either \"cat\" or \"dog\")\n",
        "- the breed\n",
        "- average weight in pounds"
      ]
    },
    {
      "cell_type": "markdown",
      "id": "491420f1",
      "metadata": {
        "id": "491420f1"
      },
      "source": [
        "We're going to use pydantic to make this easier. First let's create a pydantic model with those fields"
      ]
    },
    {
      "cell_type": "code",
      "execution_count": null,
      "id": "ff59f636",
      "metadata": {
        "id": "ff59f636"
      },
      "outputs": [],
      "source": [
        "from lancedb.pydantic import vector, LanceModel\n",
        "\n",
        "class CatsAndDogs(LanceModel):\n",
        "    vector: vector(2)\n",
        "    species: str\n",
        "    breed: str\n",
        "    weight: float"
      ]
    },
    {
      "cell_type": "markdown",
      "id": "31c35990",
      "metadata": {
        "id": "31c35990"
      },
      "source": [
        "Now connect to a local db at ~/.lancedb and create an empty LanceDB table called \"cats_and_dogs\""
      ]
    },
    {
      "cell_type": "code",
      "execution_count": null,
      "id": "1f59c988",
      "metadata": {
        "id": "1f59c988"
      },
      "outputs": [],
      "source": [
        "import lancedb\n",
        "\n",
        "db = lancedb.connect(\"~/.lancedb\")\n",
        "table_name = \"cats_and_dogs\"\n",
        "db.drop_table(table_name, ignore_missing=True)\n",
        "table = db.create_table(table_name, schema=CatsAndDogs)"
      ]
    },
    {
      "cell_type": "markdown",
      "id": "e86190e6",
      "metadata": {
        "id": "e86190e6"
      },
      "source": [
        "Let's add some data"
      ]
    },
    {
      "cell_type": "markdown",
      "id": "2c0f0fb7",
      "metadata": {
        "id": "2c0f0fb7"
      },
      "source": [
        "First some cats"
      ]
    },
    {
      "cell_type": "code",
      "execution_count": null,
      "id": "7c39b097",
      "metadata": {
        "id": "7c39b097"
      },
      "outputs": [],
      "source": [
        "data = [\n",
        "    CatsAndDogs(\n",
        "        vector=[1., 0.],\n",
        "        species=\"cat\",\n",
        "        breed=\"shorthair\",\n",
        "        weight=12.,\n",
        "    ),\n",
        "    CatsAndDogs(\n",
        "        vector=[-1., 0.],\n",
        "        species=\"cat\",\n",
        "        breed=\"himalayan\",\n",
        "        weight=9.5,\n",
        "    ),\n",
        "]"
      ]
    },
    {
      "cell_type": "markdown",
      "id": "52b2fed2",
      "metadata": {
        "id": "52b2fed2"
      },
      "source": [
        "Now call the `LanceTable.add` API to insert these two records into the table"
      ]
    },
    {
      "cell_type": "code",
      "execution_count": null,
      "id": "5714a80e",
      "metadata": {
        "id": "5714a80e"
      },
      "outputs": [],
      "source": [
        "table.add([dict(d) for d in data])"
      ]
    },
    {
      "cell_type": "markdown",
      "id": "9fd3adb9",
      "metadata": {
        "id": "9fd3adb9"
      },
      "source": [
        "Let's preview the data"
      ]
    },
    {
      "cell_type": "code",
      "execution_count": null,
      "id": "6ce21774",
      "metadata": {
        "scrolled": true,
        "id": "6ce21774",
        "outputId": "262bbe54-d9db-4603-c5ff-12039ca53f1a"
      },
      "outputs": [
        {
          "data": {
            "text/html": [
              "<div>\n",
              "<style scoped>\n",
              "    .dataframe tbody tr th:only-of-type {\n",
              "        vertical-align: middle;\n",
              "    }\n",
              "\n",
              "    .dataframe tbody tr th {\n",
              "        vertical-align: top;\n",
              "    }\n",
              "\n",
              "    .dataframe thead th {\n",
              "        text-align: right;\n",
              "    }\n",
              "</style>\n",
              "<table border=\"1\" class=\"dataframe\">\n",
              "  <thead>\n",
              "    <tr style=\"text-align: right;\">\n",
              "      <th></th>\n",
              "      <th>vector</th>\n",
              "      <th>species</th>\n",
              "      <th>breed</th>\n",
              "      <th>weight</th>\n",
              "    </tr>\n",
              "  </thead>\n",
              "  <tbody>\n",
              "    <tr>\n",
              "      <th>0</th>\n",
              "      <td>[1.0, 0.0]</td>\n",
              "      <td>cat</td>\n",
              "      <td>shorthair</td>\n",
              "      <td>12.0</td>\n",
              "    </tr>\n",
              "    <tr>\n",
              "      <th>1</th>\n",
              "      <td>[-1.0, 0.0]</td>\n",
              "      <td>cat</td>\n",
              "      <td>himalayan</td>\n",
              "      <td>9.5</td>\n",
              "    </tr>\n",
              "  </tbody>\n",
              "</table>\n",
              "</div>"
            ],
            "text/plain": [
              "        vector species      breed  weight\n",
              "0   [1.0, 0.0]     cat  shorthair    12.0\n",
              "1  [-1.0, 0.0]     cat  himalayan     9.5"
            ]
          },
          "execution_count": 6,
          "metadata": {},
          "output_type": "execute_result"
        }
      ],
      "source": [
        "table.head().to_pandas()"
      ]
    },
    {
      "cell_type": "markdown",
      "id": "4d18459d",
      "metadata": {
        "id": "4d18459d"
      },
      "source": [
        "Now let's add some dogs"
      ]
    },
    {
      "cell_type": "code",
      "execution_count": null,
      "id": "07a40981",
      "metadata": {
        "id": "07a40981"
      },
      "outputs": [],
      "source": [
        "data = [\n",
        "    CatsAndDogs(\n",
        "        vector=[0., 10.],\n",
        "        species=\"dog\",\n",
        "        breed=\"samoyed\",\n",
        "        weight=47.5,\n",
        "    ),\n",
        "    CatsAndDogs(\n",
        "        vector=[0, -1.],\n",
        "        species=\"dog\",\n",
        "        breed=\"corgi\",\n",
        "        weight=26.,\n",
        "    )\n",
        "]"
      ]
    },
    {
      "cell_type": "code",
      "execution_count": null,
      "id": "e16f9a66",
      "metadata": {
        "id": "e16f9a66"
      },
      "outputs": [],
      "source": [
        "table.add([dict(d) for d in data])"
      ]
    },
    {
      "cell_type": "code",
      "execution_count": null,
      "id": "6dfe97e8",
      "metadata": {
        "id": "6dfe97e8",
        "outputId": "e625bdc3-0d77-4903-f0f7-03a0ed696383"
      },
      "outputs": [
        {
          "data": {
            "text/html": [
              "<div>\n",
              "<style scoped>\n",
              "    .dataframe tbody tr th:only-of-type {\n",
              "        vertical-align: middle;\n",
              "    }\n",
              "\n",
              "    .dataframe tbody tr th {\n",
              "        vertical-align: top;\n",
              "    }\n",
              "\n",
              "    .dataframe thead th {\n",
              "        text-align: right;\n",
              "    }\n",
              "</style>\n",
              "<table border=\"1\" class=\"dataframe\">\n",
              "  <thead>\n",
              "    <tr style=\"text-align: right;\">\n",
              "      <th></th>\n",
              "      <th>vector</th>\n",
              "      <th>species</th>\n",
              "      <th>breed</th>\n",
              "      <th>weight</th>\n",
              "    </tr>\n",
              "  </thead>\n",
              "  <tbody>\n",
              "    <tr>\n",
              "      <th>0</th>\n",
              "      <td>[1.0, 0.0]</td>\n",
              "      <td>cat</td>\n",
              "      <td>shorthair</td>\n",
              "      <td>12.0</td>\n",
              "    </tr>\n",
              "    <tr>\n",
              "      <th>1</th>\n",
              "      <td>[-1.0, 0.0]</td>\n",
              "      <td>cat</td>\n",
              "      <td>himalayan</td>\n",
              "      <td>9.5</td>\n",
              "    </tr>\n",
              "    <tr>\n",
              "      <th>2</th>\n",
              "      <td>[0.0, 10.0]</td>\n",
              "      <td>dog</td>\n",
              "      <td>samoyed</td>\n",
              "      <td>47.5</td>\n",
              "    </tr>\n",
              "    <tr>\n",
              "      <th>3</th>\n",
              "      <td>[0.0, -1.0]</td>\n",
              "      <td>dog</td>\n",
              "      <td>corgi</td>\n",
              "      <td>26.0</td>\n",
              "    </tr>\n",
              "  </tbody>\n",
              "</table>\n",
              "</div>"
            ],
            "text/plain": [
              "        vector species      breed  weight\n",
              "0   [1.0, 0.0]     cat  shorthair    12.0\n",
              "1  [-1.0, 0.0]     cat  himalayan     9.5\n",
              "2  [0.0, 10.0]     dog    samoyed    47.5\n",
              "3  [0.0, -1.0]     dog      corgi    26.0"
            ]
          },
          "execution_count": 9,
          "metadata": {},
          "output_type": "execute_result"
        }
      ],
      "source": [
        "table.head().to_pandas()"
      ]
    },
    {
      "cell_type": "markdown",
      "id": "ae801f66",
      "metadata": {
        "id": "ae801f66"
      },
      "source": [
        "## Querying tables\n",
        "\n",
        "Vector databases allow us to retrieve data for generative AI applications. Let's see how that's done."
      ]
    },
    {
      "cell_type": "markdown",
      "id": "49ace8f8",
      "metadata": {
        "id": "49ace8f8"
      },
      "source": [
        "Let's say we have a new animal that has embedding [10.5, 10.], what would we expect the most similar animal will be?\n",
        "Can we use the table we created above to answer the question?\n",
        "\n",
        "We'll need to use the `search` API for LanceTable and `limit` / `to_df` APIs. We can refer to [LanceDB documentation](https://lancedb.github.io/lancedb/basic/#how-to-search-for-approximate-nearest-neighbors).\n",
        "\n",
        "We if get \"samoyed\" then we are right!. Here we pass the vector into `search` and make a chained call to `limit` with 1 as the param. Then we'll need to call `to_df` to execute the query and convert the results to a pandas dataframe. In addition to the data columns, we'll also see a \"score\" column, which contains the distance score between the query vector and the returned vector. In this case, the score is the square of the Euclidean distance."
      ]
    },
    {
      "cell_type": "code",
      "execution_count": null,
      "id": "42370af3",
      "metadata": {
        "id": "42370af3",
        "outputId": "eb06f10c-e7cb-4cba-87a8-13d0a2bdb075"
      },
      "outputs": [
        {
          "data": {
            "text/html": [
              "<div>\n",
              "<style scoped>\n",
              "    .dataframe tbody tr th:only-of-type {\n",
              "        vertical-align: middle;\n",
              "    }\n",
              "\n",
              "    .dataframe tbody tr th {\n",
              "        vertical-align: top;\n",
              "    }\n",
              "\n",
              "    .dataframe thead th {\n",
              "        text-align: right;\n",
              "    }\n",
              "</style>\n",
              "<table border=\"1\" class=\"dataframe\">\n",
              "  <thead>\n",
              "    <tr style=\"text-align: right;\">\n",
              "      <th></th>\n",
              "      <th>vector</th>\n",
              "      <th>species</th>\n",
              "      <th>breed</th>\n",
              "      <th>weight</th>\n",
              "      <th>_distance</th>\n",
              "    </tr>\n",
              "  </thead>\n",
              "  <tbody>\n",
              "    <tr>\n",
              "      <th>0</th>\n",
              "      <td>[0.0, 10.0]</td>\n",
              "      <td>dog</td>\n",
              "      <td>samoyed</td>\n",
              "      <td>47.5</td>\n",
              "      <td>110.25</td>\n",
              "    </tr>\n",
              "  </tbody>\n",
              "</table>\n",
              "</div>"
            ],
            "text/plain": [
              "        vector species    breed  weight  _distance\n",
              "0  [0.0, 10.0]     dog  samoyed    47.5     110.25"
            ]
          },
          "execution_count": 10,
          "metadata": {},
          "output_type": "execute_result"
        }
      ],
      "source": [
        "table.search([10.5, 10.,]).limit(1).to_df()"
      ]
    },
    {
      "cell_type": "markdown",
      "id": "ff544138",
      "metadata": {
        "id": "ff544138"
      },
      "source": [
        "Now what if we use cosine distance instead? Would we expect that we get the same answer?\n",
        "\n",
        "We can add a call to `metric` in the call chain\n",
        "\n",
        "Cosine distance is the angle between vectors. So while the query vector [10.5, 10.] is closer in Euclidean distance to Samoyed, the angle is slightly closer to shorthair cats."
      ]
    },
    {
      "cell_type": "code",
      "execution_count": null,
      "id": "b20807b2",
      "metadata": {
        "id": "b20807b2",
        "outputId": "656de98b-3ae3-436e-a733-f1907fd33a8e"
      },
      "outputs": [
        {
          "data": {
            "text/html": [
              "<div>\n",
              "<style scoped>\n",
              "    .dataframe tbody tr th:only-of-type {\n",
              "        vertical-align: middle;\n",
              "    }\n",
              "\n",
              "    .dataframe tbody tr th {\n",
              "        vertical-align: top;\n",
              "    }\n",
              "\n",
              "    .dataframe thead th {\n",
              "        text-align: right;\n",
              "    }\n",
              "</style>\n",
              "<table border=\"1\" class=\"dataframe\">\n",
              "  <thead>\n",
              "    <tr style=\"text-align: right;\">\n",
              "      <th></th>\n",
              "      <th>vector</th>\n",
              "      <th>species</th>\n",
              "      <th>breed</th>\n",
              "      <th>weight</th>\n",
              "      <th>_distance</th>\n",
              "    </tr>\n",
              "  </thead>\n",
              "  <tbody>\n",
              "    <tr>\n",
              "      <th>0</th>\n",
              "      <td>[1.0, 0.0]</td>\n",
              "      <td>cat</td>\n",
              "      <td>shorthair</td>\n",
              "      <td>12.0</td>\n",
              "      <td>0.275862</td>\n",
              "    </tr>\n",
              "  </tbody>\n",
              "</table>\n",
              "</div>"
            ],
            "text/plain": [
              "       vector species      breed  weight  _distance\n",
              "0  [1.0, 0.0]     cat  shorthair    12.0   0.275862"
            ]
          },
          "execution_count": 11,
          "metadata": {},
          "output_type": "execute_result"
        }
      ],
      "source": [
        "table.search([10.5, 10.]).metric(\"cosine\").limit(1).to_df()"
      ]
    },
    {
      "cell_type": "markdown",
      "id": "d9320abc",
      "metadata": {
        "id": "d9320abc"
      },
      "source": [
        "## Filtering tables\n",
        "\n",
        "In practice, we often need to specify more than just a search vector for good quality retrieval. Oftentimes we need to filter the metadata as well."
      ]
    },
    {
      "cell_type": "markdown",
      "id": "aec215e3",
      "metadata": {
        "id": "aec215e3"
      },
      "source": [
        "We write code to retrieve two most similar examples to the embedding [10.5, 10.] but only show the results that is a cat.\n",
        "In LanceDB, for additional filtering, we can add a call to `where` in the call chain and pass in a SQL-like filter string."
      ]
    },
    {
      "cell_type": "code",
      "execution_count": null,
      "id": "bfdbde95",
      "metadata": {
        "id": "bfdbde95",
        "outputId": "677d4842-47e3-4526-9c71-2f4ad448d4ba"
      },
      "outputs": [
        {
          "data": {
            "text/html": [
              "<div>\n",
              "<style scoped>\n",
              "    .dataframe tbody tr th:only-of-type {\n",
              "        vertical-align: middle;\n",
              "    }\n",
              "\n",
              "    .dataframe tbody tr th {\n",
              "        vertical-align: top;\n",
              "    }\n",
              "\n",
              "    .dataframe thead th {\n",
              "        text-align: right;\n",
              "    }\n",
              "</style>\n",
              "<table border=\"1\" class=\"dataframe\">\n",
              "  <thead>\n",
              "    <tr style=\"text-align: right;\">\n",
              "      <th></th>\n",
              "      <th>vector</th>\n",
              "      <th>species</th>\n",
              "      <th>breed</th>\n",
              "      <th>weight</th>\n",
              "      <th>_distance</th>\n",
              "    </tr>\n",
              "  </thead>\n",
              "  <tbody>\n",
              "    <tr>\n",
              "      <th>0</th>\n",
              "      <td>[1.0, 0.0]</td>\n",
              "      <td>cat</td>\n",
              "      <td>shorthair</td>\n",
              "      <td>12.0</td>\n",
              "      <td>190.25</td>\n",
              "    </tr>\n",
              "  </tbody>\n",
              "</table>\n",
              "</div>"
            ],
            "text/plain": [
              "       vector species      breed  weight  _distance\n",
              "0  [1.0, 0.0]     cat  shorthair    12.0     190.25"
            ]
          },
          "execution_count": 12,
          "metadata": {},
          "output_type": "execute_result"
        }
      ],
      "source": [
        "table.search([10.5, 10.,]).limit(2).where(\"species='cat'\").to_df()"
      ]
    },
    {
      "cell_type": "markdown",
      "id": "43ce2929",
      "metadata": {
        "id": "43ce2929"
      },
      "source": [
        "## Creating ANN indices\n",
        "\n",
        "For larger tables (e.g., >1M rows), searching through all of the vectors becomes quite slow. Here is where the Approximate Nearest Neighbor (ANN) index comes into play. While there are many different ANN indexing algorithms, they all have the same purpose - to drastically limit the search space as much as possible while losing as little accuracy as possible\n",
        "\n",
        "For this problem we will create an ANN index on a LanceDB table and see how that impacts performance"
      ]
    },
    {
      "cell_type": "markdown",
      "id": "e14cc160",
      "metadata": {
        "id": "e14cc160"
      },
      "source": [
        "### First let's create some data\n",
        "\n",
        "Given the constraints of the workspace, we'll complete this exercise by creating 100,000 vectors with 16D in a new table. Here the embedding values don't matter, so we simply generate random embeddings as a 2D numpy array. We then use the `vec_to_table` function to convert that in to an Arrow table, which can then be added to the table."
      ]
    },
    {
      "cell_type": "code",
      "execution_count": null,
      "id": "c2232841",
      "metadata": {
        "id": "c2232841"
      },
      "outputs": [],
      "source": [
        "from lance.vector import vec_to_table\n",
        "import numpy as np\n",
        "\n",
        "mat = np.random.randn(100_000, 16)\n",
        "table_name = \"exercise3_ann\"\n",
        "db.drop_table(table_name, ignore_missing=True)\n",
        "table = db.create_table(table_name, vec_to_table(mat))"
      ]
    },
    {
      "cell_type": "markdown",
      "id": "835ba417",
      "metadata": {
        "id": "835ba417"
      },
      "source": [
        "### Let's establish a baseline without an index\n",
        "\n",
        "Before we create the index, let's make sure know what we need to compare against.\n",
        "\n",
        "We'll generate a random query vector and record it's value in the `query` variable so we can use the same query vector with and without the ANN index."
      ]
    },
    {
      "cell_type": "code",
      "execution_count": null,
      "id": "c9c66952",
      "metadata": {
        "id": "c9c66952",
        "outputId": "5926ecb7-4a37-4f6b-bed5-a8960ddd92f4"
      },
      "outputs": [
        {
          "data": {
            "text/html": [
              "<div>\n",
              "<style scoped>\n",
              "    .dataframe tbody tr th:only-of-type {\n",
              "        vertical-align: middle;\n",
              "    }\n",
              "\n",
              "    .dataframe tbody tr th {\n",
              "        vertical-align: top;\n",
              "    }\n",
              "\n",
              "    .dataframe thead th {\n",
              "        text-align: right;\n",
              "    }\n",
              "</style>\n",
              "<table border=\"1\" class=\"dataframe\">\n",
              "  <thead>\n",
              "    <tr style=\"text-align: right;\">\n",
              "      <th></th>\n",
              "      <th>vector</th>\n",
              "      <th>_distance</th>\n",
              "    </tr>\n",
              "  </thead>\n",
              "  <tbody>\n",
              "    <tr>\n",
              "      <th>0</th>\n",
              "      <td>[-0.1767028, -0.5229317, -1.4283801, 0.0392339...</td>\n",
              "      <td>5.347155</td>\n",
              "    </tr>\n",
              "    <tr>\n",
              "      <th>1</th>\n",
              "      <td>[0.09929892, -0.073682174, -1.1638305, -1.0271...</td>\n",
              "      <td>5.735785</td>\n",
              "    </tr>\n",
              "    <tr>\n",
              "      <th>2</th>\n",
              "      <td>[0.81666917, -0.37490085, -1.5122684, -1.78993...</td>\n",
              "      <td>5.888507</td>\n",
              "    </tr>\n",
              "    <tr>\n",
              "      <th>3</th>\n",
              "      <td>[-0.6520697, -0.37692794, -2.0548658, 0.051603...</td>\n",
              "      <td>6.202878</td>\n",
              "    </tr>\n",
              "    <tr>\n",
              "      <th>4</th>\n",
              "      <td>[0.43040285, -0.2845944, -1.7629384, 0.1087845...</td>\n",
              "      <td>6.444257</td>\n",
              "    </tr>\n",
              "    <tr>\n",
              "      <th>5</th>\n",
              "      <td>[0.3332895, -0.974127, -1.4170854, -0.75394565...</td>\n",
              "      <td>6.712359</td>\n",
              "    </tr>\n",
              "    <tr>\n",
              "      <th>6</th>\n",
              "      <td>[-0.29099643, -0.13922098, -1.6444877, -0.7764...</td>\n",
              "      <td>6.763872</td>\n",
              "    </tr>\n",
              "    <tr>\n",
              "      <th>7</th>\n",
              "      <td>[-0.5022906, -0.5896424, -0.7970898, 0.1395855...</td>\n",
              "      <td>6.834733</td>\n",
              "    </tr>\n",
              "    <tr>\n",
              "      <th>8</th>\n",
              "      <td>[-0.09440635, -0.22170915, -0.93469584, -0.021...</td>\n",
              "      <td>6.972491</td>\n",
              "    </tr>\n",
              "    <tr>\n",
              "      <th>9</th>\n",
              "      <td>[0.16971456, -0.62072587, -0.53135717, -0.6371...</td>\n",
              "      <td>7.018113</td>\n",
              "    </tr>\n",
              "  </tbody>\n",
              "</table>\n",
              "</div>"
            ],
            "text/plain": [
              "                                              vector  _distance\n",
              "0  [-0.1767028, -0.5229317, -1.4283801, 0.0392339...   5.347155\n",
              "1  [0.09929892, -0.073682174, -1.1638305, -1.0271...   5.735785\n",
              "2  [0.81666917, -0.37490085, -1.5122684, -1.78993...   5.888507\n",
              "3  [-0.6520697, -0.37692794, -2.0548658, 0.051603...   6.202878\n",
              "4  [0.43040285, -0.2845944, -1.7629384, 0.1087845...   6.444257\n",
              "5  [0.3332895, -0.974127, -1.4170854, -0.75394565...   6.712359\n",
              "6  [-0.29099643, -0.13922098, -1.6444877, -0.7764...   6.763872\n",
              "7  [-0.5022906, -0.5896424, -0.7970898, 0.1395855...   6.834733\n",
              "8  [-0.09440635, -0.22170915, -0.93469584, -0.021...   6.972491\n",
              "9  [0.16971456, -0.62072587, -0.53135717, -0.6371...   7.018113"
            ]
          },
          "execution_count": 14,
          "metadata": {},
          "output_type": "execute_result"
        }
      ],
      "source": [
        "query = np.random.randn(16)\n",
        "table.search(query).limit(10).to_df()"
      ]
    },
    {
      "cell_type": "markdown",
      "id": "4e5727bf",
      "metadata": {
        "id": "4e5727bf"
      },
      "source": [
        "Code to compute the average latency of this query\n",
        "\n",
        "There are several possible solutions. Given that we're in a notebook environment, the easiest is probably using the %timeit magic function to run the command a bunch of times and compute the average"
      ]
    },
    {
      "cell_type": "code",
      "execution_count": null,
      "id": "8b8c3ec2",
      "metadata": {
        "id": "8b8c3ec2",
        "outputId": "d36dddd6-2731-4b5e-d7e3-cd32b8bbfa14"
      },
      "outputs": [
        {
          "name": "stdout",
          "output_type": "stream",
          "text": [
            "11.2 ms ± 352 µs per loop (mean ± std. dev. of 7 runs, 100 loops each)\n"
          ]
        }
      ],
      "source": [
        "%timeit table.search(np.random.randn(16)).limit(10).to_arrow();"
      ]
    },
    {
      "cell_type": "markdown",
      "id": "2cd7063c",
      "metadata": {
        "id": "2cd7063c"
      },
      "source": [
        "### Now let's create an index\n",
        "\n",
        "There are many possible index types ranging from hash based to tree based to partition based to graph based.\n",
        "For this task, we'll create an IVFPQ index (partition-based index with product quantization compression) using LanceDB.\n",
        "\n",
        "Please create an IVFPQ index on the LanceDB table such that each partition is 4000 rows and each PQ subvector is 8D.\n",
        "\n",
        "**HINT**\n",
        "1. Total vectors / number of partitions = number of vectors in each partition\n",
        "2. Total dimensions / number of subvectors = number of dimensions in each subvector"
      ]
    },
    {
      "cell_type": "code",
      "execution_count": null,
      "id": "dd56c13c",
      "metadata": {
        "id": "dd56c13c",
        "outputId": "7f8a0aee-8252-4731-f9fe-07910d06052f"
      },
      "outputs": [
        {
          "name": "stdout",
          "output_type": "stream",
          "text": [
            "Sample 4096 out of 65536 to train kmeans of 16 dim, 16 clusters\n"
          ]
        }
      ],
      "source": [
        "table.create_index(num_partitions=16, num_sub_vectors=8)"
      ]
    },
    {
      "cell_type": "markdown",
      "id": "2d7fd1cf",
      "metadata": {
        "id": "2d7fd1cf"
      },
      "source": [
        "Now let's search through the data again. Notice how the answers now appear different.\n",
        "This is because an ANN index is always a tradeoff between latency and accuracy."
      ]
    },
    {
      "cell_type": "code",
      "execution_count": null,
      "id": "fddd7e20",
      "metadata": {
        "id": "fddd7e20",
        "outputId": "b0cae5af-bc21-4012-9732-649b8580f060"
      },
      "outputs": [
        {
          "data": {
            "text/html": [
              "<div>\n",
              "<style scoped>\n",
              "    .dataframe tbody tr th:only-of-type {\n",
              "        vertical-align: middle;\n",
              "    }\n",
              "\n",
              "    .dataframe tbody tr th {\n",
              "        vertical-align: top;\n",
              "    }\n",
              "\n",
              "    .dataframe thead th {\n",
              "        text-align: right;\n",
              "    }\n",
              "</style>\n",
              "<table border=\"1\" class=\"dataframe\">\n",
              "  <thead>\n",
              "    <tr style=\"text-align: right;\">\n",
              "      <th></th>\n",
              "      <th>vector</th>\n",
              "      <th>_distance</th>\n",
              "    </tr>\n",
              "  </thead>\n",
              "  <tbody>\n",
              "    <tr>\n",
              "      <th>0</th>\n",
              "      <td>[-0.1767028, -0.5229317, -1.4283801, 0.0392339...</td>\n",
              "      <td>5.024755</td>\n",
              "    </tr>\n",
              "    <tr>\n",
              "      <th>1</th>\n",
              "      <td>[0.81666917, -0.37490085, -1.5122684, -1.78993...</td>\n",
              "      <td>5.092604</td>\n",
              "    </tr>\n",
              "    <tr>\n",
              "      <th>2</th>\n",
              "      <td>[0.09929892, -0.073682174, -1.1638305, -1.0271...</td>\n",
              "      <td>6.207117</td>\n",
              "    </tr>\n",
              "    <tr>\n",
              "      <th>3</th>\n",
              "      <td>[-0.29099643, -0.13922098, -1.6444877, -0.7764...</td>\n",
              "      <td>6.269482</td>\n",
              "    </tr>\n",
              "    <tr>\n",
              "      <th>4</th>\n",
              "      <td>[-0.6520697, -0.37692794, -2.0548658, 0.051603...</td>\n",
              "      <td>6.611748</td>\n",
              "    </tr>\n",
              "    <tr>\n",
              "      <th>5</th>\n",
              "      <td>[0.43040285, -0.2845944, -1.7629384, 0.1087845...</td>\n",
              "      <td>6.706854</td>\n",
              "    </tr>\n",
              "    <tr>\n",
              "      <th>6</th>\n",
              "      <td>[0.3332895, -0.974127, -1.4170854, -0.75394565...</td>\n",
              "      <td>6.764954</td>\n",
              "    </tr>\n",
              "    <tr>\n",
              "      <th>7</th>\n",
              "      <td>[-0.09440635, -0.22170915, -0.93469584, -0.021...</td>\n",
              "      <td>7.031804</td>\n",
              "    </tr>\n",
              "    <tr>\n",
              "      <th>8</th>\n",
              "      <td>[0.16971456, -0.62072587, -0.53135717, -0.6371...</td>\n",
              "      <td>7.062588</td>\n",
              "    </tr>\n",
              "    <tr>\n",
              "      <th>9</th>\n",
              "      <td>[1.1067225, -0.52280897, -1.3419323, -1.009257...</td>\n",
              "      <td>7.151832</td>\n",
              "    </tr>\n",
              "  </tbody>\n",
              "</table>\n",
              "</div>"
            ],
            "text/plain": [
              "                                              vector  _distance\n",
              "0  [-0.1767028, -0.5229317, -1.4283801, 0.0392339...   5.024755\n",
              "1  [0.81666917, -0.37490085, -1.5122684, -1.78993...   5.092604\n",
              "2  [0.09929892, -0.073682174, -1.1638305, -1.0271...   6.207117\n",
              "3  [-0.29099643, -0.13922098, -1.6444877, -0.7764...   6.269482\n",
              "4  [-0.6520697, -0.37692794, -2.0548658, 0.051603...   6.611748\n",
              "5  [0.43040285, -0.2845944, -1.7629384, 0.1087845...   6.706854\n",
              "6  [0.3332895, -0.974127, -1.4170854, -0.75394565...   6.764954\n",
              "7  [-0.09440635, -0.22170915, -0.93469584, -0.021...   7.031804\n",
              "8  [0.16971456, -0.62072587, -0.53135717, -0.6371...   7.062588\n",
              "9  [1.1067225, -0.52280897, -1.3419323, -1.009257...   7.151832"
            ]
          },
          "execution_count": 17,
          "metadata": {},
          "output_type": "execute_result"
        }
      ],
      "source": [
        "table.search(query).limit(10).to_df()"
      ]
    },
    {
      "cell_type": "markdown",
      "id": "a484f4e6",
      "metadata": {
        "id": "a484f4e6"
      },
      "source": [
        "Code to compute the average latency for querying the same table using the ANN index.\n",
        "The index is implementation detail, so it should just be running the same code as above. We should see almost an order of magnitude speed-up. On larger datasets, this performance difference should be even more pronounced."
      ]
    },
    {
      "cell_type": "code",
      "execution_count": null,
      "id": "160d215a",
      "metadata": {
        "id": "160d215a",
        "outputId": "cee2fdf2-2b7e-4ff7-98f9-6becac934a2b"
      },
      "outputs": [
        {
          "name": "stdout",
          "output_type": "stream",
          "text": [
            "9.18 ms ± 299 µs per loop (mean ± std. dev. of 7 runs, 100 loops each)\n"
          ]
        }
      ],
      "source": [
        "%timeit table.search(np.random.randn(16)).limit(10).to_arrow();"
      ]
    },
    {
      "cell_type": "markdown",
      "id": "2e6cf308",
      "metadata": {
        "id": "2e6cf308"
      },
      "source": [
        "## Deleting rows\n",
        "\n",
        "Like with other kinds of databases, we should be able to remove rows from the table.\n",
        "Let's go back to our tables of cats and dogs"
      ]
    },
    {
      "cell_type": "code",
      "execution_count": null,
      "id": "a6f6f507",
      "metadata": {
        "id": "a6f6f507"
      },
      "outputs": [],
      "source": [
        "table = db[\"cats_and_dogs\"]"
      ]
    },
    {
      "cell_type": "code",
      "execution_count": null,
      "id": "d3972a8e",
      "metadata": {
        "id": "d3972a8e",
        "outputId": "321349c4-e8b1-4497-85a2-6f8ca35cccde"
      },
      "outputs": [
        {
          "data": {
            "text/plain": [
              "4"
            ]
          },
          "execution_count": 20,
          "metadata": {},
          "output_type": "execute_result"
        }
      ],
      "source": [
        "len(table)"
      ]
    },
    {
      "cell_type": "markdown",
      "id": "27b38608",
      "metadata": {
        "id": "27b38608"
      },
      "source": [
        "Can we use the `delete` API to remove all of the cats from the table?\n",
        "\n",
        "Use a SQL like filter string to specify which rows to delete from the table"
      ]
    },
    {
      "cell_type": "code",
      "execution_count": null,
      "id": "29e09aac",
      "metadata": {
        "scrolled": true,
        "id": "29e09aac"
      },
      "outputs": [],
      "source": [
        "table.delete(\"species='cat'\")"
      ]
    },
    {
      "cell_type": "code",
      "execution_count": null,
      "id": "40893f3f",
      "metadata": {
        "id": "40893f3f",
        "outputId": "fd9190cf-8b0d-4d55-f169-90a5b287ea08"
      },
      "outputs": [
        {
          "data": {
            "text/plain": [
              "2"
            ]
          },
          "execution_count": 22,
          "metadata": {},
          "output_type": "execute_result"
        }
      ],
      "source": [
        "len(table)"
      ]
    },
    {
      "cell_type": "markdown",
      "id": "48fbabf5",
      "metadata": {
        "jp-MarkdownHeadingCollapsed": true,
        "id": "48fbabf5"
      },
      "source": [
        "*italicized text*## What if we messed up?\n",
        "\n",
        "Errors is a common occurrence in AI. What's hard about errors in vector search is that oftentimes a bad vector doesn't cause a crash but just creates non-sensical answers. So to be able to rollback the state of the database is very important for debugging and reproducibility"
      ]
    },
    {
      "cell_type": "markdown",
      "id": "ee8032a3",
      "metadata": {
        "id": "ee8032a3"
      },
      "source": [
        "So far we've accumulated 4 actions on the table:\n",
        "1. creation of the table\n",
        "2. added cats\n",
        "3. added dogs\n",
        "4. deleted cats"
      ]
    },
    {
      "cell_type": "markdown",
      "id": "5e85b09c",
      "metadata": {
        "id": "5e85b09c"
      },
      "source": [
        "What if we realized that we should have deleted the dogs instead of the cats?\n",
        "\n",
        "Here we can see the 4 versions that correspond to the 4 actions we've done"
      ]
    },
    {
      "cell_type": "code",
      "execution_count": null,
      "id": "693d28d1",
      "metadata": {
        "id": "693d28d1",
        "outputId": "8fb82b7e-d692-4b70-bf9b-fac8e68187e0"
      },
      "outputs": [
        {
          "data": {
            "text/plain": [
              "[{'version': 1,\n",
              "  'timestamp': datetime.datetime(2025, 7, 29, 2, 3, 36, 188040),\n",
              "  'metadata': {}},\n",
              " {'version': 2,\n",
              "  'timestamp': datetime.datetime(2025, 7, 29, 2, 3, 39, 628141),\n",
              "  'metadata': {}},\n",
              " {'version': 3,\n",
              "  'timestamp': datetime.datetime(2025, 7, 29, 2, 3, 41, 957229),\n",
              "  'metadata': {}},\n",
              " {'version': 4,\n",
              "  'timestamp': datetime.datetime(2025, 7, 29, 2, 7, 30, 768484),\n",
              "  'metadata': {}}]"
            ]
          },
          "execution_count": 23,
          "metadata": {},
          "output_type": "execute_result"
        }
      ],
      "source": [
        "table.list_versions()"
      ]
    },
    {
      "cell_type": "markdown",
      "id": "1c749c8b",
      "metadata": {
        "id": "1c749c8b"
      },
      "source": [
        "Code to restore the version still containing the whole dataset"
      ]
    },
    {
      "cell_type": "code",
      "execution_count": null,
      "id": "d34780bb",
      "metadata": {
        "id": "d34780bb"
      },
      "outputs": [],
      "source": [
        "table = db[\"cats_and_dogs\"]"
      ]
    },
    {
      "cell_type": "code",
      "execution_count": null,
      "id": "2fb71d94",
      "metadata": {
        "id": "2fb71d94",
        "outputId": "12b72881-b96e-430b-d42a-cb5fcc3c656e"
      },
      "outputs": [
        {
          "data": {
            "text/plain": [
              "2"
            ]
          },
          "execution_count": 25,
          "metadata": {},
          "output_type": "execute_result"
        }
      ],
      "source": [
        "len(table)"
      ]
    },
    {
      "cell_type": "code",
      "execution_count": null,
      "id": "c17faf84",
      "metadata": {
        "id": "c17faf84"
      },
      "outputs": [],
      "source": [
        "table.restore(3)"
      ]
    },
    {
      "cell_type": "code",
      "execution_count": null,
      "id": "45e405a3",
      "metadata": {
        "id": "45e405a3"
      },
      "outputs": [],
      "source": [
        "table.delete(\"species='dog'\")"
      ]
    },
    {
      "cell_type": "code",
      "execution_count": null,
      "id": "b9c4ce6f",
      "metadata": {
        "scrolled": true,
        "id": "b9c4ce6f",
        "outputId": "0847c1ba-3a76-494e-90dd-8c55bb122758"
      },
      "outputs": [
        {
          "data": {
            "text/plain": [
              "[{'version': 1,\n",
              "  'timestamp': datetime.datetime(2025, 7, 29, 2, 3, 36, 188040),\n",
              "  'metadata': {}},\n",
              " {'version': 2,\n",
              "  'timestamp': datetime.datetime(2025, 7, 29, 2, 3, 39, 628141),\n",
              "  'metadata': {}},\n",
              " {'version': 3,\n",
              "  'timestamp': datetime.datetime(2025, 7, 29, 2, 3, 41, 957229),\n",
              "  'metadata': {}},\n",
              " {'version': 4,\n",
              "  'timestamp': datetime.datetime(2025, 7, 29, 2, 7, 30, 768484),\n",
              "  'metadata': {}},\n",
              " {'version': 5,\n",
              "  'timestamp': datetime.datetime(2025, 7, 29, 2, 7, 30, 813583),\n",
              "  'metadata': {}},\n",
              " {'version': 6,\n",
              "  'timestamp': datetime.datetime(2025, 7, 29, 2, 7, 30, 826009),\n",
              "  'metadata': {}}]"
            ]
          },
          "execution_count": 28,
          "metadata": {},
          "output_type": "execute_result"
        }
      ],
      "source": [
        "table.list_versions()"
      ]
    },
    {
      "cell_type": "code",
      "execution_count": null,
      "id": "a3bb1fa0",
      "metadata": {
        "id": "a3bb1fa0",
        "outputId": "231e2b48-198e-4a67-939a-c9904f3bbaa8"
      },
      "outputs": [
        {
          "data": {
            "text/html": [
              "<div>\n",
              "<style scoped>\n",
              "    .dataframe tbody tr th:only-of-type {\n",
              "        vertical-align: middle;\n",
              "    }\n",
              "\n",
              "    .dataframe tbody tr th {\n",
              "        vertical-align: top;\n",
              "    }\n",
              "\n",
              "    .dataframe thead th {\n",
              "        text-align: right;\n",
              "    }\n",
              "</style>\n",
              "<table border=\"1\" class=\"dataframe\">\n",
              "  <thead>\n",
              "    <tr style=\"text-align: right;\">\n",
              "      <th></th>\n",
              "      <th>vector</th>\n",
              "      <th>species</th>\n",
              "      <th>breed</th>\n",
              "      <th>weight</th>\n",
              "    </tr>\n",
              "  </thead>\n",
              "  <tbody>\n",
              "    <tr>\n",
              "      <th>0</th>\n",
              "      <td>[1.0, 0.0]</td>\n",
              "      <td>cat</td>\n",
              "      <td>shorthair</td>\n",
              "      <td>12.0</td>\n",
              "    </tr>\n",
              "    <tr>\n",
              "      <th>1</th>\n",
              "      <td>[-1.0, 0.0]</td>\n",
              "      <td>cat</td>\n",
              "      <td>himalayan</td>\n",
              "      <td>9.5</td>\n",
              "    </tr>\n",
              "  </tbody>\n",
              "</table>\n",
              "</div>"
            ],
            "text/plain": [
              "        vector species      breed  weight\n",
              "0   [1.0, 0.0]     cat  shorthair    12.0\n",
              "1  [-1.0, 0.0]     cat  himalayan     9.5"
            ]
          },
          "execution_count": 29,
          "metadata": {},
          "output_type": "execute_result"
        }
      ],
      "source": [
        "table.to_pandas()"
      ]
    },
    {
      "cell_type": "markdown",
      "id": "81672a29",
      "metadata": {
        "id": "81672a29"
      },
      "source": [
        "## Dropping a table\n",
        "\n",
        "We can also choose to drop a table, which also completely removes the data.\n",
        "Note that this operation is not reversible."
      ]
    },
    {
      "cell_type": "code",
      "execution_count": null,
      "id": "d84db57d",
      "metadata": {
        "id": "d84db57d",
        "outputId": "e9ada98e-46c4-4f2e-d0ef-3aeba73513aa"
      },
      "outputs": [
        {
          "data": {
            "text/plain": [
              "True"
            ]
          },
          "execution_count": 30,
          "metadata": {},
          "output_type": "execute_result"
        }
      ],
      "source": [
        "\"cats_and_dogs\" in db"
      ]
    },
    {
      "cell_type": "markdown",
      "id": "b70b747b",
      "metadata": {
        "id": "b70b747b"
      },
      "source": [
        "Write code to irrevocably remove the table \"cats_and_dogs\" from the database"
      ]
    },
    {
      "cell_type": "code",
      "execution_count": null,
      "id": "f82fd78e",
      "metadata": {
        "id": "f82fd78e"
      },
      "outputs": [],
      "source": [
        "db.drop_table(\"cats_and_dogs\")"
      ]
    },
    {
      "cell_type": "markdown",
      "id": "68e6e3e7",
      "metadata": {
        "id": "68e6e3e7"
      },
      "source": [
        "How would we verify that the table has indeed been deleted?"
      ]
    },
    {
      "cell_type": "code",
      "execution_count": null,
      "id": "6571ec86",
      "metadata": {
        "scrolled": true,
        "id": "6571ec86",
        "outputId": "06a1d305-8acd-4bef-dabd-61e26f4247df"
      },
      "outputs": [
        {
          "data": {
            "text/plain": [
              "False"
            ]
          },
          "execution_count": 32,
          "metadata": {},
          "output_type": "execute_result"
        }
      ],
      "source": [
        "table.name in db"
      ]
    }
  ],
  "metadata": {
    "kernelspec": {
      "display_name": "Python 3 (ipykernel)",
      "language": "python",
      "name": "python3"
    },
    "language_info": {
      "codemirror_mode": {
        "name": "ipython",
        "version": 3
      },
      "file_extension": ".py",
      "mimetype": "text/x-python",
      "name": "python",
      "nbconvert_exporter": "python",
      "pygments_lexer": "ipython3",
      "version": "3.10.13"
    },
    "colab": {
      "provenance": []
    }
  },
  "nbformat": 4,
  "nbformat_minor": 5
}