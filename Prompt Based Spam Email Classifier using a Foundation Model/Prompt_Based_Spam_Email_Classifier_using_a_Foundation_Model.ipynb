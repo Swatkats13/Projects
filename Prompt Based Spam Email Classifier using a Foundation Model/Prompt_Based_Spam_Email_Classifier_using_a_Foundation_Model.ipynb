{
  "cells": [
    {
      "cell_type": "markdown",
      "metadata": {
        "id": "KwWrHi5y76Kb"
      },
      "source": [
        "# Goal: Use a foundation model to build a spam email classifier\n",
        "\n",
        "A foundation model serves as a fundamental building block for potentially endless applications. One application we will explore in this project is the development of a spam email classifier using only the prompt. By leveraging the capabilities of a foundation model, this project aims to accurately identify and filter out unwanted and potentially harmful emails, enhancing user experience and security.\n",
        "\n",
        "## Steps\n",
        "\n",
        "1. Identify and gather relevant data\n",
        "2. Build and evaluate the spam email classifier\n",
        "3. Build an improved classifier?"
      ]
    },
    {
      "cell_type": "markdown",
      "metadata": {
        "id": "ljHODo2f76Kd"
      },
      "source": [
        "## Step 1: Identify and gather relevant data\n",
        "\n",
        "To train and test the spam email classifier, we will need a dataset of emails that are labeled as spam or not spam. It is important to identify and gather a suitable dataset that represents a wide range of spam and non-spam emails."
      ]
    },
    {
      "cell_type": "code",
      "execution_count": 1,
      "metadata": {
        "colab": {
          "base_uri": "https://localhost:8080/",
          "height": 347,
          "referenced_widgets": [
            "c150ccd519c74b8c9de25c426fcce11c",
            "4ece57f2eef640f3b2c3c5e3d3fb0093",
            "1fb0347257b8481bb1d652388304a7e2",
            "54191b0a4f434bc49c15a134e327fe63",
            "e2157007a6a9432eba029f354cf7d001",
            "2ced8027272945f980071555b55ae0bc",
            "14bd9c26c62b41e2bcf49f5544e43ebb",
            "cff83635b97d42ba8d3d2f5279064963",
            "7fcbc905866c47c181399389ff7d5090",
            "19c1a92a0afe48adb03e717b88378486",
            "e24498a8fa65452cb0cfaf99d79ef885",
            "f279babd74a149b8a3c2733e9ccfa826",
            "22693c535ab945f5b27e8eec27ee23d8",
            "def4c0c6c026493fa6937bb32270bf0f",
            "7e09793a085c42eb8379482e1e226649",
            "1d2ca5ddb593443e8e298a2e03b30ca6",
            "96c194d662eb40eca0c1149ffdff7179",
            "5a4870d2b89c49cea63c36771a4b337d",
            "e325f7a0335a4de2a28e01a821117fef",
            "f4cfe0da244849909e403be723767937",
            "7dfa6563d4f744189f427a3267e72171",
            "87b3ec74140b4766bb19c87b7b020c60",
            "4d76359ea7504e609c9e1f78364e68ed",
            "e15ec64d016f456a9e1e5c2ca8148cd0",
            "12e4fe8abf7344b6aa4a511d326d4ea7",
            "c35ba2d72e6043cdba4bc6eddc0ef497",
            "2f4aa85643cb444c8a992ddbf8cc342a",
            "ae9bdd3869194cd9ab94bbb1fdfe80ee",
            "29a4457b57644981a4fb57cb5e4dbf8f",
            "c020c6d26a5b48a582aa3498da2958a3",
            "8805f5ff49a0450b806b414f1bc1042c",
            "84309763f27b48b3a884751f53e45adf",
            "8785ec4723004a39bfba455d89fefd77"
          ]
        },
        "id": "2H_HHc5A76Kd",
        "outputId": "ac138b5a-d4b9-4626-b0b4-10cda06a2576"
      },
      "outputs": [
        {
          "output_type": "stream",
          "name": "stderr",
          "text": [
            "/usr/local/lib/python3.11/dist-packages/huggingface_hub/utils/_auth.py:94: UserWarning: \n",
            "The secret `HF_TOKEN` does not exist in your Colab secrets.\n",
            "To authenticate with the Hugging Face Hub, create a token in your settings tab (https://huggingface.co/settings/tokens), set it as secret in your Google Colab and restart your session.\n",
            "You will be able to reuse this secret in all of your notebooks.\n",
            "Please note that authentication is recommended but still optional to access public models or datasets.\n",
            "  warnings.warn(\n"
          ]
        },
        {
          "output_type": "display_data",
          "data": {
            "text/plain": [
              "README.md: 0.00B [00:00, ?B/s]"
            ],
            "application/vnd.jupyter.widget-view+json": {
              "version_major": 2,
              "version_minor": 0,
              "model_id": "c150ccd519c74b8c9de25c426fcce11c"
            }
          },
          "metadata": {}
        },
        {
          "output_type": "display_data",
          "data": {
            "text/plain": [
              "train-00000-of-00001.parquet:   0%|          | 0.00/359k [00:00<?, ?B/s]"
            ],
            "application/vnd.jupyter.widget-view+json": {
              "version_major": 2,
              "version_minor": 0,
              "model_id": "f279babd74a149b8a3c2733e9ccfa826"
            }
          },
          "metadata": {}
        },
        {
          "output_type": "display_data",
          "data": {
            "text/plain": [
              "Generating train split:   0%|          | 0/5574 [00:00<?, ? examples/s]"
            ],
            "application/vnd.jupyter.widget-view+json": {
              "version_major": 2,
              "version_minor": 0,
              "model_id": "4d76359ea7504e609c9e1f78364e68ed"
            }
          },
          "metadata": {}
        },
        {
          "output_type": "stream",
          "name": "stdout",
          "text": [
            "label=0, sms=Go until jurong point, crazy.. Available only in bugis n great world la e buffet... Cine there got amore wat...\n",
            "\n",
            "label=0, sms=Ok lar... Joking wif u oni...\n",
            "\n",
            "label=1, sms=Free entry in 2 a wkly comp to win FA Cup final tkts 21st May 2005. Text FA to 87121 to receive entry question(std txt rate)T&C's apply 08452810075over18's\n",
            "\n"
          ]
        }
      ],
      "source": [
        "# Find a spam dataset at https://huggingface.co/datasets and load it using the datasets library\n",
        "\n",
        "from datasets import load_dataset\n",
        "\n",
        "dataset = load_dataset(\"sms_spam\", split=[\"train\"])[0]\n",
        "\n",
        "for entry in dataset.select(range(3)):\n",
        "    sms = entry[\"sms\"]\n",
        "    label = entry[\"label\"]\n",
        "    print(f\"label={label}, sms={sms}\")"
      ]
    },
    {
      "cell_type": "markdown",
      "metadata": {
        "id": "IP2FtRur76Ke"
      },
      "source": [
        "Those labels could be easier to read. Let's create some functions to convert numerical ids to labels."
      ]
    },
    {
      "cell_type": "code",
      "execution_count": 2,
      "metadata": {
        "colab": {
          "base_uri": "https://localhost:8080/"
        },
        "id": "udY-_P4076Ke",
        "outputId": "bc82d453-287a-44fc-c588-adf4ef90ca9d"
      },
      "outputs": [
        {
          "output_type": "stream",
          "name": "stdout",
          "text": [
            "label=NOT SPAM, sms=Go until jurong point, crazy.. Available only in bugis n great world la e buffet... Cine there got amore wat...\n",
            "\n",
            "label=NOT SPAM, sms=Ok lar... Joking wif u oni...\n",
            "\n",
            "label=SPAM, sms=Free entry in 2 a wkly comp to win FA Cup final tkts 21st May 2005. Text FA to 87121 to receive entry question(std txt rate)T&C's apply 08452810075over18's\n",
            "\n"
          ]
        }
      ],
      "source": [
        "# Convenient dictionaries to convert between labels and ids\n",
        "id2label = {0: \"NOT SPAM\", 1: \"SPAM\"}\n",
        "label2id = {\"NOT SPAM\": 0, \"SPAM\": 1}\n",
        "\n",
        "for entry in dataset.select(range(3)):\n",
        "    sms = entry[\"sms\"]\n",
        "    label_id = entry[\"label\"]\n",
        "    print(f\"label={id2label[label_id]}, sms={sms}\")"
      ]
    },
    {
      "cell_type": "markdown",
      "metadata": {
        "id": "zMCyBUyr76Ke"
      },
      "source": [
        "## Step 2: Build and evaluate the spam email classifier\n",
        "\n",
        "Using the foundation model and the prepared dataset, we can create a spam email classifier.\n",
        "\n",
        "Let's write a prompt that will ask the model to classify 15 message as either \"spam\" or \"not spam\". For easier parsing, we can ask the LLM to respond in JSON."
      ]
    },
    {
      "cell_type": "code",
      "execution_count": 3,
      "metadata": {
        "colab": {
          "base_uri": "https://localhost:8080/"
        },
        "id": "2ggNVdqP76Ke",
        "outputId": "53573378-b017-4a01-e0cd-3ca44dfa34fa"
      },
      "outputs": [
        {
          "output_type": "stream",
          "name": "stdout",
          "text": [
            "0 (label=NOT SPAM) -> Go until jurong point, crazy.. Available only in bugis n great world la e buffet... Cine there got amore wat...\n",
            "\n",
            "1 (label=NOT SPAM) -> Ok lar... Joking wif u oni...\n",
            "\n",
            "2 (label=SPAM) -> Free entry in 2 a wkly comp to win FA Cup final tkts 21st May 2005. Text FA to 87121 to receive entry question(std txt rate)T&C's apply 08452810075over18's\n",
            "\n",
            "\n"
          ]
        }
      ],
      "source": [
        "# Let's start with this helper function that will help us format sms messages\n",
        "# for the LLM.\n",
        "def get_sms_messages_string(dataset, item_numbers, include_labels=False):\n",
        "    sms_messages_string = \"\"\n",
        "    for item_number, entry in zip(item_numbers, dataset.select(item_numbers)):\n",
        "        sms = entry[\"sms\"]\n",
        "        label_id = entry[\"label\"]\n",
        "\n",
        "        if include_labels:\n",
        "            sms_messages_string += (\n",
        "                f\"{item_number} (label={id2label[label_id]}) -> {sms}\\n\"\n",
        "            )\n",
        "        else:\n",
        "            sms_messages_string += f\"{item_number} -> {sms}\\n\"\n",
        "\n",
        "    return sms_messages_string\n",
        "\n",
        "\n",
        "print(get_sms_messages_string(dataset, range(3), include_labels=True))"
      ]
    },
    {
      "cell_type": "markdown",
      "metadata": {
        "id": "y5J0_6F576Ke"
      },
      "source": [
        "Now let's write a bit of code that will produce our prompt. Our prompt should include a few SMS message to be labelled as well as instructions for the LLM.\n",
        "\n",
        "Some LLMs will also format the output for us as JSON if we ask them, e.g. \"Respond in JSON format.\""
      ]
    },
    {
      "cell_type": "code",
      "execution_count": 4,
      "metadata": {
        "colab": {
          "base_uri": "https://localhost:8080/"
        },
        "id": "sqx1m3cx76Ke",
        "outputId": "df19afc9-60ea-4fc3-cefc-90271e7c0817"
      },
      "outputs": [
        {
          "output_type": "stream",
          "name": "stdout",
          "text": [
            "\n",
            "7 -> As per your request 'Melle Melle (Oru Minnaminunginte Nurungu Vettam)' has been set as your callertune for all Callers. Press *9 to copy your friends Callertune\n",
            "\n",
            "8 -> WINNER!! As a valued network customer you have been selected to receivea £900 prize reward! To claim call 09061701461. Claim code KL341. Valid 12 hours only.\n",
            "\n",
            "9 -> Had your mobile 11 months or more? U R entitled to Update to the latest colour mobiles with camera for Free! Call The Mobile Update Co FREE on 08002986030\n",
            "\n",
            "10 -> I'm gonna be home soon and i don't want to talk about this stuff anymore tonight, k? I've cried enough today.\n",
            "\n",
            "11 -> SIX chances to win CASH! From 100 to 20,000 pounds txt> CSH11 and send to 87575. Cost 150p/day, 6days, 16+ TsandCs apply Reply HL 4 info\n",
            "\n",
            "12 -> URGENT! You have won a 1 week FREE membership in our £100,000 Prize Jackpot! Txt the word: CLAIM to No: 81010 T&C www.dbuk.net LCCLTD POBOX 4403LDNW1A7RW18\n",
            "\n",
            "13 -> I've been searching for the right words to thank you for this breather. I promise i wont take your help for granted and will fulfil my promise. You have been wonderful and a blessing at all times.\n",
            "\n",
            "14 -> I HAVE A DATE ON SUNDAY WITH WILL!!\n",
            "\n",
            "\n",
            "---\n",
            "Classify the messages above as SPAM or NOT SPAM. Respond in JSON format.\n",
            "Use the following format: {\"0\": \"NOT SPAM\", \"1\": \"SPAM\"}\n",
            "\n",
            "\n",
            "\n"
          ]
        }
      ],
      "source": [
        "\n",
        "\n",
        "# Get a few messages and format them as a string\n",
        "sms_messages_string = get_sms_messages_string(\n",
        "    dataset, range(7, 15), include_labels=False\n",
        ")\n",
        "\n",
        "# Construct a query to send to the LLM including the sms messages.\n",
        "# Ask it to respond in JSON format.\n",
        "query = f\"\"\"\n",
        "{sms_messages_string}\n",
        "---\n",
        "Classify the messages above as SPAM or NOT SPAM. Respond in JSON format.\n",
        "Use the following format: {{\"0\": \"NOT SPAM\", \"1\": \"SPAM\"}}\n",
        "\n",
        "\n",
        "\"\"\"\n",
        "\n",
        "print(query)"
      ]
    },
    {
      "cell_type": "code",
      "execution_count": 5,
      "metadata": {
        "id": "uortTdr576Kf"
      },
      "outputs": [],
      "source": [
        "\n",
        "\n",
        "response = {\n",
        "    \"7\": \"SPAM\",\n",
        "    \"8\": \"SPAM\",\n",
        "    \"9\": \"SPAM\",\n",
        "    \"10\": \"NOT SPAM\",\n",
        "    \"11\": \"SPAM\",\n",
        "    \"12\": \"SPAM\",\n",
        "    \"13\": \"NOT SPAM\",\n",
        "    \"14\": \"NOT SPAM\",\n",
        "}"
      ]
    },
    {
      "cell_type": "code",
      "execution_count": 6,
      "metadata": {
        "colab": {
          "base_uri": "https://localhost:8080/"
        },
        "id": "MZuvw5B_76Kf",
        "outputId": "27a1c3e9-1045-4e1a-fdc6-2c8cca3c8593"
      },
      "outputs": [
        {
          "output_type": "stream",
          "name": "stdout",
          "text": [
            "Accuracy: 0.88\n"
          ]
        }
      ],
      "source": [
        "# Estimate the accuracy of the classifier by comparing the responses to the labels in the dataset\n",
        "\n",
        "\n",
        "def get_accuracy(response, dataset, original_indices):\n",
        "    correct = 0\n",
        "    total = 0\n",
        "\n",
        "    for entry_number, prediction in response.items():\n",
        "        if int(entry_number) not in original_indices:\n",
        "            continue\n",
        "\n",
        "        label_id = dataset[int(entry_number)][\"label\"]\n",
        "        label = id2label[label_id]\n",
        "\n",
        "        # If the prediction from the LLM matches the label in the dataset\n",
        "        # we increment the number of correct predictions.\n",
        "        # (Since LLMs do not always produce the same output, we use the\n",
        "        # lower case version of the strings for comparison)\n",
        "        if prediction.lower() == label.lower():\n",
        "            correct += 1\n",
        "\n",
        "        # increment the total number of predictions\n",
        "        total += 1\n",
        "\n",
        "    try:\n",
        "        accuracy = correct / total\n",
        "    except ZeroDivisionError:\n",
        "        print(\"No matching results found!\")\n",
        "        return\n",
        "\n",
        "    return round(accuracy, 2)\n",
        "\n",
        "\n",
        "print(f\"Accuracy: {get_accuracy(response, dataset, range(7, 15))}\")"
      ]
    },
    {
      "cell_type": "markdown",
      "metadata": {
        "id": "acA8kxmw76Kf"
      },
      "source": [
        "That's not bad! (Assuming we used an LLM capable of handling this task)\n",
        "\n",
        "Surely it won't be correct for every example we throw at it, but it's a great start, especially for not giving it any examples or training data.\n",
        "\n",
        "We can see that the model is able to distinguish between spam and non-spam messages with a high degree of accuracy. This is a great example of how a foundation model can be used to build a spam email classifier."
      ]
    },
    {
      "cell_type": "markdown",
      "metadata": {
        "id": "2ci9Ywlo76Kf"
      },
      "source": [
        "## Step 3: Build an improved classifier?\n",
        "\n",
        "If we provide the LLM with some examples for how to complete a task, it will sometimes improve its performance. Let's try that out here."
      ]
    },
    {
      "cell_type": "code",
      "execution_count": 7,
      "metadata": {
        "colab": {
          "base_uri": "https://localhost:8080/"
        },
        "id": "hZ0H4HNW76Kf",
        "outputId": "60da5e0a-57d0-44ae-fd75-c21a2aa1363a"
      },
      "outputs": [
        {
          "output_type": "stream",
          "name": "stdout",
          "text": [
            "\n",
            "54 (label=SPAM) -> SMS. ac Sptv: The New Jersey Devils and the Detroit Red Wings play Ice Hockey. Correct or Incorrect? End? Reply END SPTV\n",
            "\n",
            "55 (label=NOT SPAM) -> Do you know what Mallika Sherawat did yesterday? Find out now @  &lt;URL&gt;\n",
            "\n",
            "56 (label=SPAM) -> Congrats! 1 year special cinema pass for 2 is yours. call 09061209465 now! C Suprman V, Matrix3, StarWars3, etc all 4 FREE! bx420-ip4-5we. 150pm. Dont miss out! \n",
            "\n",
            "57 (label=NOT SPAM) -> Sorry, I'll call later in meeting.\n",
            "\n",
            "58 (label=NOT SPAM) -> Tell where you reached\n",
            "\n",
            "59 (label=NOT SPAM) -> Yes..gauti and sehwag out of odi series.\n",
            "\n",
            "\n",
            "7 -> As per your request 'Melle Melle (Oru Minnaminunginte Nurungu Vettam)' has been set as your callertune for all Callers. Press *9 to copy your friends Callertune\n",
            "\n",
            "8 -> WINNER!! As a valued network customer you have been selected to receivea £900 prize reward! To claim call 09061701461. Claim code KL341. Valid 12 hours only.\n",
            "\n",
            "9 -> Had your mobile 11 months or more? U R entitled to Update to the latest colour mobiles with camera for Free! Call The Mobile Update Co FREE on 08002986030\n",
            "\n",
            "10 -> I'm gonna be home soon and i don't want to talk about this stuff anymore tonight, k? I've cried enough today.\n",
            "\n",
            "11 -> SIX chances to win CASH! From 100 to 20,000 pounds txt> CSH11 and send to 87575. Cost 150p/day, 6days, 16+ TsandCs apply Reply HL 4 info\n",
            "\n",
            "12 -> URGENT! You have won a 1 week FREE membership in our £100,000 Prize Jackpot! Txt the word: CLAIM to No: 81010 T&C www.dbuk.net LCCLTD POBOX 4403LDNW1A7RW18\n",
            "\n",
            "13 -> I've been searching for the right words to thank you for this breather. I promise i wont take your help for granted and will fulfil my promise. You have been wonderful and a blessing at all times.\n",
            "\n",
            "14 -> I HAVE A DATE ON SUNDAY WITH WILL!!\n",
            "\n",
            "\n",
            "---\n",
            "Classify the messages above as SPAM or NOT SPAM. Respond in JSON format.\n",
            "Use the following format: {\"0\": \"NOT SPAM\", \"1\": \"SPAM\"}.\n",
            "Some examples have been labeled for you.\n",
            "\n",
            "\n"
          ]
        }
      ],
      "source": [
        "\n",
        "\n",
        "# Get a few labelled messages and format them as a string\n",
        "sms_messages_string_w_labels = get_sms_messages_string(\n",
        "    dataset, range(54, 60), include_labels=True\n",
        ")\n",
        "\n",
        "# Get the first 15 messages and format them as a string\n",
        "sms_messages_string_no_labels = get_sms_messages_string(dataset, range(7, 15))\n",
        "\n",
        "\n",
        "# Construct a query to send to the LLM including the labelled messages\n",
        "# as well as the unlabelled messages. Ask it to respond in JSON format\n",
        "query = f\"\"\"\n",
        "{sms_messages_string_w_labels}\n",
        "{sms_messages_string_no_labels}\n",
        "---\n",
        "Classify the messages above as SPAM or NOT SPAM. Respond in JSON format.\n",
        "Use the following format: {{\"0\": \"NOT SPAM\", \"1\": \"SPAM\"}}.\n",
        "Some examples have been labeled for you.\n",
        "\n",
        "\"\"\"\n",
        "\n",
        "print(query)"
      ]
    },
    {
      "cell_type": "code",
      "execution_count": 8,
      "metadata": {
        "id": "uBZsjetP76Kf"
      },
      "outputs": [],
      "source": [
        "\n",
        "\n",
        "response = {\n",
        "    \"7\": \"NOT SPAM\",\n",
        "    \"8\": \"SPAM\",\n",
        "    \"9\": \"SPAM\",\n",
        "    \"10\": \"NOT SPAM\",\n",
        "    \"11\": \"SPAM\",\n",
        "    \"12\": \"SPAM\",\n",
        "    \"13\": \"NOT SPAM\",\n",
        "    \"14\": \"NOT SPAM\",\n",
        "}"
      ]
    },
    {
      "cell_type": "markdown",
      "metadata": {
        "id": "7Eh7r3FY76Kf"
      },
      "source": [
        "Let's check the accuracy now"
      ]
    },
    {
      "cell_type": "code",
      "execution_count": 9,
      "metadata": {
        "colab": {
          "base_uri": "https://localhost:8080/"
        },
        "id": "q0r5XHoc76Kf",
        "outputId": "3c6895a0-a1ce-43e7-e9fa-c22822e82cbd"
      },
      "outputs": [
        {
          "output_type": "stream",
          "name": "stdout",
          "text": [
            "Accuracy: 1.00\n"
          ]
        }
      ],
      "source": [
        "# What's the accuracy?\n",
        "\n",
        "print(f\"Accuracy: {get_accuracy(response, dataset, range(7,15)):.2f}\")"
      ]
    },
    {
      "cell_type": "markdown",
      "metadata": {
        "id": "kyYgn3TV76Kf"
      },
      "source": [
        "If there are any misclassified items, let's view them."
      ]
    },
    {
      "cell_type": "code",
      "execution_count": 10,
      "metadata": {
        "id": "p7rnTg6s76Kf"
      },
      "outputs": [],
      "source": [
        "# Show the messages that were misclassified, if you have any\n",
        "\n",
        "\n",
        "def print_misclassified_messages(response, dataset):\n",
        "    for entry_number, prediction in response.items():\n",
        "        label_id = dataset[int(entry_number)][\"label\"]\n",
        "        label = id2label[label_id]\n",
        "\n",
        "        if prediction.lower() != label.lower():\n",
        "            sms = dataset[int(entry_number)][\"sms\"]\n",
        "            print(\"---\")\n",
        "            print(f\"Message: {sms}\")\n",
        "            print(f\"Label: {label}\")\n",
        "            print(f\"Prediction: {prediction}\")\n",
        "\n",
        "\n",
        "print_misclassified_messages(response, dataset)"
      ]
    }
  ],
  "metadata": {
    "kernelspec": {
      "display_name": "Python 3 (ipykernel)",
      "language": "python",
      "name": "python3"
    },
    "language_info": {
      "codemirror_mode": {
        "name": "ipython",
        "version": 3
      },
      "file_extension": ".py",
      "mimetype": "text/x-python",
      "name": "python",
      "nbconvert_exporter": "python",
      "pygments_lexer": "ipython3",
      "version": "3.10.11"
    },
    "colab": {
      "provenance": []
    },
    "widgets": {
      "application/vnd.jupyter.widget-state+json": {
        "c150ccd519c74b8c9de25c426fcce11c": {
          "model_module": "@jupyter-widgets/controls",
          "model_name": "HBoxModel",
          "model_module_version": "1.5.0",
          "state": {
            "_dom_classes": [],
            "_model_module": "@jupyter-widgets/controls",
            "_model_module_version": "1.5.0",
            "_model_name": "HBoxModel",
            "_view_count": null,
            "_view_module": "@jupyter-widgets/controls",
            "_view_module_version": "1.5.0",
            "_view_name": "HBoxView",
            "box_style": "",
            "children": [
              "IPY_MODEL_4ece57f2eef640f3b2c3c5e3d3fb0093",
              "IPY_MODEL_1fb0347257b8481bb1d652388304a7e2",
              "IPY_MODEL_54191b0a4f434bc49c15a134e327fe63"
            ],
            "layout": "IPY_MODEL_e2157007a6a9432eba029f354cf7d001"
          }
        },
        "4ece57f2eef640f3b2c3c5e3d3fb0093": {
          "model_module": "@jupyter-widgets/controls",
          "model_name": "HTMLModel",
          "model_module_version": "1.5.0",
          "state": {
            "_dom_classes": [],
            "_model_module": "@jupyter-widgets/controls",
            "_model_module_version": "1.5.0",
            "_model_name": "HTMLModel",
            "_view_count": null,
            "_view_module": "@jupyter-widgets/controls",
            "_view_module_version": "1.5.0",
            "_view_name": "HTMLView",
            "description": "",
            "description_tooltip": null,
            "layout": "IPY_MODEL_2ced8027272945f980071555b55ae0bc",
            "placeholder": "​",
            "style": "IPY_MODEL_14bd9c26c62b41e2bcf49f5544e43ebb",
            "value": "README.md: "
          }
        },
        "1fb0347257b8481bb1d652388304a7e2": {
          "model_module": "@jupyter-widgets/controls",
          "model_name": "FloatProgressModel",
          "model_module_version": "1.5.0",
          "state": {
            "_dom_classes": [],
            "_model_module": "@jupyter-widgets/controls",
            "_model_module_version": "1.5.0",
            "_model_name": "FloatProgressModel",
            "_view_count": null,
            "_view_module": "@jupyter-widgets/controls",
            "_view_module_version": "1.5.0",
            "_view_name": "ProgressView",
            "bar_style": "success",
            "description": "",
            "description_tooltip": null,
            "layout": "IPY_MODEL_cff83635b97d42ba8d3d2f5279064963",
            "max": 1,
            "min": 0,
            "orientation": "horizontal",
            "style": "IPY_MODEL_7fcbc905866c47c181399389ff7d5090",
            "value": 1
          }
        },
        "54191b0a4f434bc49c15a134e327fe63": {
          "model_module": "@jupyter-widgets/controls",
          "model_name": "HTMLModel",
          "model_module_version": "1.5.0",
          "state": {
            "_dom_classes": [],
            "_model_module": "@jupyter-widgets/controls",
            "_model_module_version": "1.5.0",
            "_model_name": "HTMLModel",
            "_view_count": null,
            "_view_module": "@jupyter-widgets/controls",
            "_view_module_version": "1.5.0",
            "_view_name": "HTMLView",
            "description": "",
            "description_tooltip": null,
            "layout": "IPY_MODEL_19c1a92a0afe48adb03e717b88378486",
            "placeholder": "​",
            "style": "IPY_MODEL_e24498a8fa65452cb0cfaf99d79ef885",
            "value": " 4.98k/? [00:00&lt;00:00, 226kB/s]"
          }
        },
        "e2157007a6a9432eba029f354cf7d001": {
          "model_module": "@jupyter-widgets/base",
          "model_name": "LayoutModel",
          "model_module_version": "1.2.0",
          "state": {
            "_model_module": "@jupyter-widgets/base",
            "_model_module_version": "1.2.0",
            "_model_name": "LayoutModel",
            "_view_count": null,
            "_view_module": "@jupyter-widgets/base",
            "_view_module_version": "1.2.0",
            "_view_name": "LayoutView",
            "align_content": null,
            "align_items": null,
            "align_self": null,
            "border": null,
            "bottom": null,
            "display": null,
            "flex": null,
            "flex_flow": null,
            "grid_area": null,
            "grid_auto_columns": null,
            "grid_auto_flow": null,
            "grid_auto_rows": null,
            "grid_column": null,
            "grid_gap": null,
            "grid_row": null,
            "grid_template_areas": null,
            "grid_template_columns": null,
            "grid_template_rows": null,
            "height": null,
            "justify_content": null,
            "justify_items": null,
            "left": null,
            "margin": null,
            "max_height": null,
            "max_width": null,
            "min_height": null,
            "min_width": null,
            "object_fit": null,
            "object_position": null,
            "order": null,
            "overflow": null,
            "overflow_x": null,
            "overflow_y": null,
            "padding": null,
            "right": null,
            "top": null,
            "visibility": null,
            "width": null
          }
        },
        "2ced8027272945f980071555b55ae0bc": {
          "model_module": "@jupyter-widgets/base",
          "model_name": "LayoutModel",
          "model_module_version": "1.2.0",
          "state": {
            "_model_module": "@jupyter-widgets/base",
            "_model_module_version": "1.2.0",
            "_model_name": "LayoutModel",
            "_view_count": null,
            "_view_module": "@jupyter-widgets/base",
            "_view_module_version": "1.2.0",
            "_view_name": "LayoutView",
            "align_content": null,
            "align_items": null,
            "align_self": null,
            "border": null,
            "bottom": null,
            "display": null,
            "flex": null,
            "flex_flow": null,
            "grid_area": null,
            "grid_auto_columns": null,
            "grid_auto_flow": null,
            "grid_auto_rows": null,
            "grid_column": null,
            "grid_gap": null,
            "grid_row": null,
            "grid_template_areas": null,
            "grid_template_columns": null,
            "grid_template_rows": null,
            "height": null,
            "justify_content": null,
            "justify_items": null,
            "left": null,
            "margin": null,
            "max_height": null,
            "max_width": null,
            "min_height": null,
            "min_width": null,
            "object_fit": null,
            "object_position": null,
            "order": null,
            "overflow": null,
            "overflow_x": null,
            "overflow_y": null,
            "padding": null,
            "right": null,
            "top": null,
            "visibility": null,
            "width": null
          }
        },
        "14bd9c26c62b41e2bcf49f5544e43ebb": {
          "model_module": "@jupyter-widgets/controls",
          "model_name": "DescriptionStyleModel",
          "model_module_version": "1.5.0",
          "state": {
            "_model_module": "@jupyter-widgets/controls",
            "_model_module_version": "1.5.0",
            "_model_name": "DescriptionStyleModel",
            "_view_count": null,
            "_view_module": "@jupyter-widgets/base",
            "_view_module_version": "1.2.0",
            "_view_name": "StyleView",
            "description_width": ""
          }
        },
        "cff83635b97d42ba8d3d2f5279064963": {
          "model_module": "@jupyter-widgets/base",
          "model_name": "LayoutModel",
          "model_module_version": "1.2.0",
          "state": {
            "_model_module": "@jupyter-widgets/base",
            "_model_module_version": "1.2.0",
            "_model_name": "LayoutModel",
            "_view_count": null,
            "_view_module": "@jupyter-widgets/base",
            "_view_module_version": "1.2.0",
            "_view_name": "LayoutView",
            "align_content": null,
            "align_items": null,
            "align_self": null,
            "border": null,
            "bottom": null,
            "display": null,
            "flex": null,
            "flex_flow": null,
            "grid_area": null,
            "grid_auto_columns": null,
            "grid_auto_flow": null,
            "grid_auto_rows": null,
            "grid_column": null,
            "grid_gap": null,
            "grid_row": null,
            "grid_template_areas": null,
            "grid_template_columns": null,
            "grid_template_rows": null,
            "height": null,
            "justify_content": null,
            "justify_items": null,
            "left": null,
            "margin": null,
            "max_height": null,
            "max_width": null,
            "min_height": null,
            "min_width": null,
            "object_fit": null,
            "object_position": null,
            "order": null,
            "overflow": null,
            "overflow_x": null,
            "overflow_y": null,
            "padding": null,
            "right": null,
            "top": null,
            "visibility": null,
            "width": "20px"
          }
        },
        "7fcbc905866c47c181399389ff7d5090": {
          "model_module": "@jupyter-widgets/controls",
          "model_name": "ProgressStyleModel",
          "model_module_version": "1.5.0",
          "state": {
            "_model_module": "@jupyter-widgets/controls",
            "_model_module_version": "1.5.0",
            "_model_name": "ProgressStyleModel",
            "_view_count": null,
            "_view_module": "@jupyter-widgets/base",
            "_view_module_version": "1.2.0",
            "_view_name": "StyleView",
            "bar_color": null,
            "description_width": ""
          }
        },
        "19c1a92a0afe48adb03e717b88378486": {
          "model_module": "@jupyter-widgets/base",
          "model_name": "LayoutModel",
          "model_module_version": "1.2.0",
          "state": {
            "_model_module": "@jupyter-widgets/base",
            "_model_module_version": "1.2.0",
            "_model_name": "LayoutModel",
            "_view_count": null,
            "_view_module": "@jupyter-widgets/base",
            "_view_module_version": "1.2.0",
            "_view_name": "LayoutView",
            "align_content": null,
            "align_items": null,
            "align_self": null,
            "border": null,
            "bottom": null,
            "display": null,
            "flex": null,
            "flex_flow": null,
            "grid_area": null,
            "grid_auto_columns": null,
            "grid_auto_flow": null,
            "grid_auto_rows": null,
            "grid_column": null,
            "grid_gap": null,
            "grid_row": null,
            "grid_template_areas": null,
            "grid_template_columns": null,
            "grid_template_rows": null,
            "height": null,
            "justify_content": null,
            "justify_items": null,
            "left": null,
            "margin": null,
            "max_height": null,
            "max_width": null,
            "min_height": null,
            "min_width": null,
            "object_fit": null,
            "object_position": null,
            "order": null,
            "overflow": null,
            "overflow_x": null,
            "overflow_y": null,
            "padding": null,
            "right": null,
            "top": null,
            "visibility": null,
            "width": null
          }
        },
        "e24498a8fa65452cb0cfaf99d79ef885": {
          "model_module": "@jupyter-widgets/controls",
          "model_name": "DescriptionStyleModel",
          "model_module_version": "1.5.0",
          "state": {
            "_model_module": "@jupyter-widgets/controls",
            "_model_module_version": "1.5.0",
            "_model_name": "DescriptionStyleModel",
            "_view_count": null,
            "_view_module": "@jupyter-widgets/base",
            "_view_module_version": "1.2.0",
            "_view_name": "StyleView",
            "description_width": ""
          }
        },
        "f279babd74a149b8a3c2733e9ccfa826": {
          "model_module": "@jupyter-widgets/controls",
          "model_name": "HBoxModel",
          "model_module_version": "1.5.0",
          "state": {
            "_dom_classes": [],
            "_model_module": "@jupyter-widgets/controls",
            "_model_module_version": "1.5.0",
            "_model_name": "HBoxModel",
            "_view_count": null,
            "_view_module": "@jupyter-widgets/controls",
            "_view_module_version": "1.5.0",
            "_view_name": "HBoxView",
            "box_style": "",
            "children": [
              "IPY_MODEL_22693c535ab945f5b27e8eec27ee23d8",
              "IPY_MODEL_def4c0c6c026493fa6937bb32270bf0f",
              "IPY_MODEL_7e09793a085c42eb8379482e1e226649"
            ],
            "layout": "IPY_MODEL_1d2ca5ddb593443e8e298a2e03b30ca6"
          }
        },
        "22693c535ab945f5b27e8eec27ee23d8": {
          "model_module": "@jupyter-widgets/controls",
          "model_name": "HTMLModel",
          "model_module_version": "1.5.0",
          "state": {
            "_dom_classes": [],
            "_model_module": "@jupyter-widgets/controls",
            "_model_module_version": "1.5.0",
            "_model_name": "HTMLModel",
            "_view_count": null,
            "_view_module": "@jupyter-widgets/controls",
            "_view_module_version": "1.5.0",
            "_view_name": "HTMLView",
            "description": "",
            "description_tooltip": null,
            "layout": "IPY_MODEL_96c194d662eb40eca0c1149ffdff7179",
            "placeholder": "​",
            "style": "IPY_MODEL_5a4870d2b89c49cea63c36771a4b337d",
            "value": "train-00000-of-00001.parquet: 100%"
          }
        },
        "def4c0c6c026493fa6937bb32270bf0f": {
          "model_module": "@jupyter-widgets/controls",
          "model_name": "FloatProgressModel",
          "model_module_version": "1.5.0",
          "state": {
            "_dom_classes": [],
            "_model_module": "@jupyter-widgets/controls",
            "_model_module_version": "1.5.0",
            "_model_name": "FloatProgressModel",
            "_view_count": null,
            "_view_module": "@jupyter-widgets/controls",
            "_view_module_version": "1.5.0",
            "_view_name": "ProgressView",
            "bar_style": "success",
            "description": "",
            "description_tooltip": null,
            "layout": "IPY_MODEL_e325f7a0335a4de2a28e01a821117fef",
            "max": 358869,
            "min": 0,
            "orientation": "horizontal",
            "style": "IPY_MODEL_f4cfe0da244849909e403be723767937",
            "value": 358869
          }
        },
        "7e09793a085c42eb8379482e1e226649": {
          "model_module": "@jupyter-widgets/controls",
          "model_name": "HTMLModel",
          "model_module_version": "1.5.0",
          "state": {
            "_dom_classes": [],
            "_model_module": "@jupyter-widgets/controls",
            "_model_module_version": "1.5.0",
            "_model_name": "HTMLModel",
            "_view_count": null,
            "_view_module": "@jupyter-widgets/controls",
            "_view_module_version": "1.5.0",
            "_view_name": "HTMLView",
            "description": "",
            "description_tooltip": null,
            "layout": "IPY_MODEL_7dfa6563d4f744189f427a3267e72171",
            "placeholder": "​",
            "style": "IPY_MODEL_87b3ec74140b4766bb19c87b7b020c60",
            "value": " 359k/359k [00:00&lt;00:00, 4.63MB/s]"
          }
        },
        "1d2ca5ddb593443e8e298a2e03b30ca6": {
          "model_module": "@jupyter-widgets/base",
          "model_name": "LayoutModel",
          "model_module_version": "1.2.0",
          "state": {
            "_model_module": "@jupyter-widgets/base",
            "_model_module_version": "1.2.0",
            "_model_name": "LayoutModel",
            "_view_count": null,
            "_view_module": "@jupyter-widgets/base",
            "_view_module_version": "1.2.0",
            "_view_name": "LayoutView",
            "align_content": null,
            "align_items": null,
            "align_self": null,
            "border": null,
            "bottom": null,
            "display": null,
            "flex": null,
            "flex_flow": null,
            "grid_area": null,
            "grid_auto_columns": null,
            "grid_auto_flow": null,
            "grid_auto_rows": null,
            "grid_column": null,
            "grid_gap": null,
            "grid_row": null,
            "grid_template_areas": null,
            "grid_template_columns": null,
            "grid_template_rows": null,
            "height": null,
            "justify_content": null,
            "justify_items": null,
            "left": null,
            "margin": null,
            "max_height": null,
            "max_width": null,
            "min_height": null,
            "min_width": null,
            "object_fit": null,
            "object_position": null,
            "order": null,
            "overflow": null,
            "overflow_x": null,
            "overflow_y": null,
            "padding": null,
            "right": null,
            "top": null,
            "visibility": null,
            "width": null
          }
        },
        "96c194d662eb40eca0c1149ffdff7179": {
          "model_module": "@jupyter-widgets/base",
          "model_name": "LayoutModel",
          "model_module_version": "1.2.0",
          "state": {
            "_model_module": "@jupyter-widgets/base",
            "_model_module_version": "1.2.0",
            "_model_name": "LayoutModel",
            "_view_count": null,
            "_view_module": "@jupyter-widgets/base",
            "_view_module_version": "1.2.0",
            "_view_name": "LayoutView",
            "align_content": null,
            "align_items": null,
            "align_self": null,
            "border": null,
            "bottom": null,
            "display": null,
            "flex": null,
            "flex_flow": null,
            "grid_area": null,
            "grid_auto_columns": null,
            "grid_auto_flow": null,
            "grid_auto_rows": null,
            "grid_column": null,
            "grid_gap": null,
            "grid_row": null,
            "grid_template_areas": null,
            "grid_template_columns": null,
            "grid_template_rows": null,
            "height": null,
            "justify_content": null,
            "justify_items": null,
            "left": null,
            "margin": null,
            "max_height": null,
            "max_width": null,
            "min_height": null,
            "min_width": null,
            "object_fit": null,
            "object_position": null,
            "order": null,
            "overflow": null,
            "overflow_x": null,
            "overflow_y": null,
            "padding": null,
            "right": null,
            "top": null,
            "visibility": null,
            "width": null
          }
        },
        "5a4870d2b89c49cea63c36771a4b337d": {
          "model_module": "@jupyter-widgets/controls",
          "model_name": "DescriptionStyleModel",
          "model_module_version": "1.5.0",
          "state": {
            "_model_module": "@jupyter-widgets/controls",
            "_model_module_version": "1.5.0",
            "_model_name": "DescriptionStyleModel",
            "_view_count": null,
            "_view_module": "@jupyter-widgets/base",
            "_view_module_version": "1.2.0",
            "_view_name": "StyleView",
            "description_width": ""
          }
        },
        "e325f7a0335a4de2a28e01a821117fef": {
          "model_module": "@jupyter-widgets/base",
          "model_name": "LayoutModel",
          "model_module_version": "1.2.0",
          "state": {
            "_model_module": "@jupyter-widgets/base",
            "_model_module_version": "1.2.0",
            "_model_name": "LayoutModel",
            "_view_count": null,
            "_view_module": "@jupyter-widgets/base",
            "_view_module_version": "1.2.0",
            "_view_name": "LayoutView",
            "align_content": null,
            "align_items": null,
            "align_self": null,
            "border": null,
            "bottom": null,
            "display": null,
            "flex": null,
            "flex_flow": null,
            "grid_area": null,
            "grid_auto_columns": null,
            "grid_auto_flow": null,
            "grid_auto_rows": null,
            "grid_column": null,
            "grid_gap": null,
            "grid_row": null,
            "grid_template_areas": null,
            "grid_template_columns": null,
            "grid_template_rows": null,
            "height": null,
            "justify_content": null,
            "justify_items": null,
            "left": null,
            "margin": null,
            "max_height": null,
            "max_width": null,
            "min_height": null,
            "min_width": null,
            "object_fit": null,
            "object_position": null,
            "order": null,
            "overflow": null,
            "overflow_x": null,
            "overflow_y": null,
            "padding": null,
            "right": null,
            "top": null,
            "visibility": null,
            "width": null
          }
        },
        "f4cfe0da244849909e403be723767937": {
          "model_module": "@jupyter-widgets/controls",
          "model_name": "ProgressStyleModel",
          "model_module_version": "1.5.0",
          "state": {
            "_model_module": "@jupyter-widgets/controls",
            "_model_module_version": "1.5.0",
            "_model_name": "ProgressStyleModel",
            "_view_count": null,
            "_view_module": "@jupyter-widgets/base",
            "_view_module_version": "1.2.0",
            "_view_name": "StyleView",
            "bar_color": null,
            "description_width": ""
          }
        },
        "7dfa6563d4f744189f427a3267e72171": {
          "model_module": "@jupyter-widgets/base",
          "model_name": "LayoutModel",
          "model_module_version": "1.2.0",
          "state": {
            "_model_module": "@jupyter-widgets/base",
            "_model_module_version": "1.2.0",
            "_model_name": "LayoutModel",
            "_view_count": null,
            "_view_module": "@jupyter-widgets/base",
            "_view_module_version": "1.2.0",
            "_view_name": "LayoutView",
            "align_content": null,
            "align_items": null,
            "align_self": null,
            "border": null,
            "bottom": null,
            "display": null,
            "flex": null,
            "flex_flow": null,
            "grid_area": null,
            "grid_auto_columns": null,
            "grid_auto_flow": null,
            "grid_auto_rows": null,
            "grid_column": null,
            "grid_gap": null,
            "grid_row": null,
            "grid_template_areas": null,
            "grid_template_columns": null,
            "grid_template_rows": null,
            "height": null,
            "justify_content": null,
            "justify_items": null,
            "left": null,
            "margin": null,
            "max_height": null,
            "max_width": null,
            "min_height": null,
            "min_width": null,
            "object_fit": null,
            "object_position": null,
            "order": null,
            "overflow": null,
            "overflow_x": null,
            "overflow_y": null,
            "padding": null,
            "right": null,
            "top": null,
            "visibility": null,
            "width": null
          }
        },
        "87b3ec74140b4766bb19c87b7b020c60": {
          "model_module": "@jupyter-widgets/controls",
          "model_name": "DescriptionStyleModel",
          "model_module_version": "1.5.0",
          "state": {
            "_model_module": "@jupyter-widgets/controls",
            "_model_module_version": "1.5.0",
            "_model_name": "DescriptionStyleModel",
            "_view_count": null,
            "_view_module": "@jupyter-widgets/base",
            "_view_module_version": "1.2.0",
            "_view_name": "StyleView",
            "description_width": ""
          }
        },
        "4d76359ea7504e609c9e1f78364e68ed": {
          "model_module": "@jupyter-widgets/controls",
          "model_name": "HBoxModel",
          "model_module_version": "1.5.0",
          "state": {
            "_dom_classes": [],
            "_model_module": "@jupyter-widgets/controls",
            "_model_module_version": "1.5.0",
            "_model_name": "HBoxModel",
            "_view_count": null,
            "_view_module": "@jupyter-widgets/controls",
            "_view_module_version": "1.5.0",
            "_view_name": "HBoxView",
            "box_style": "",
            "children": [
              "IPY_MODEL_e15ec64d016f456a9e1e5c2ca8148cd0",
              "IPY_MODEL_12e4fe8abf7344b6aa4a511d326d4ea7",
              "IPY_MODEL_c35ba2d72e6043cdba4bc6eddc0ef497"
            ],
            "layout": "IPY_MODEL_2f4aa85643cb444c8a992ddbf8cc342a"
          }
        },
        "e15ec64d016f456a9e1e5c2ca8148cd0": {
          "model_module": "@jupyter-widgets/controls",
          "model_name": "HTMLModel",
          "model_module_version": "1.5.0",
          "state": {
            "_dom_classes": [],
            "_model_module": "@jupyter-widgets/controls",
            "_model_module_version": "1.5.0",
            "_model_name": "HTMLModel",
            "_view_count": null,
            "_view_module": "@jupyter-widgets/controls",
            "_view_module_version": "1.5.0",
            "_view_name": "HTMLView",
            "description": "",
            "description_tooltip": null,
            "layout": "IPY_MODEL_ae9bdd3869194cd9ab94bbb1fdfe80ee",
            "placeholder": "​",
            "style": "IPY_MODEL_29a4457b57644981a4fb57cb5e4dbf8f",
            "value": "Generating train split: 100%"
          }
        },
        "12e4fe8abf7344b6aa4a511d326d4ea7": {
          "model_module": "@jupyter-widgets/controls",
          "model_name": "FloatProgressModel",
          "model_module_version": "1.5.0",
          "state": {
            "_dom_classes": [],
            "_model_module": "@jupyter-widgets/controls",
            "_model_module_version": "1.5.0",
            "_model_name": "FloatProgressModel",
            "_view_count": null,
            "_view_module": "@jupyter-widgets/controls",
            "_view_module_version": "1.5.0",
            "_view_name": "ProgressView",
            "bar_style": "success",
            "description": "",
            "description_tooltip": null,
            "layout": "IPY_MODEL_c020c6d26a5b48a582aa3498da2958a3",
            "max": 5574,
            "min": 0,
            "orientation": "horizontal",
            "style": "IPY_MODEL_8805f5ff49a0450b806b414f1bc1042c",
            "value": 5574
          }
        },
        "c35ba2d72e6043cdba4bc6eddc0ef497": {
          "model_module": "@jupyter-widgets/controls",
          "model_name": "HTMLModel",
          "model_module_version": "1.5.0",
          "state": {
            "_dom_classes": [],
            "_model_module": "@jupyter-widgets/controls",
            "_model_module_version": "1.5.0",
            "_model_name": "HTMLModel",
            "_view_count": null,
            "_view_module": "@jupyter-widgets/controls",
            "_view_module_version": "1.5.0",
            "_view_name": "HTMLView",
            "description": "",
            "description_tooltip": null,
            "layout": "IPY_MODEL_84309763f27b48b3a884751f53e45adf",
            "placeholder": "​",
            "style": "IPY_MODEL_8785ec4723004a39bfba455d89fefd77",
            "value": " 5574/5574 [00:00&lt;00:00, 90310.19 examples/s]"
          }
        },
        "2f4aa85643cb444c8a992ddbf8cc342a": {
          "model_module": "@jupyter-widgets/base",
          "model_name": "LayoutModel",
          "model_module_version": "1.2.0",
          "state": {
            "_model_module": "@jupyter-widgets/base",
            "_model_module_version": "1.2.0",
            "_model_name": "LayoutModel",
            "_view_count": null,
            "_view_module": "@jupyter-widgets/base",
            "_view_module_version": "1.2.0",
            "_view_name": "LayoutView",
            "align_content": null,
            "align_items": null,
            "align_self": null,
            "border": null,
            "bottom": null,
            "display": null,
            "flex": null,
            "flex_flow": null,
            "grid_area": null,
            "grid_auto_columns": null,
            "grid_auto_flow": null,
            "grid_auto_rows": null,
            "grid_column": null,
            "grid_gap": null,
            "grid_row": null,
            "grid_template_areas": null,
            "grid_template_columns": null,
            "grid_template_rows": null,
            "height": null,
            "justify_content": null,
            "justify_items": null,
            "left": null,
            "margin": null,
            "max_height": null,
            "max_width": null,
            "min_height": null,
            "min_width": null,
            "object_fit": null,
            "object_position": null,
            "order": null,
            "overflow": null,
            "overflow_x": null,
            "overflow_y": null,
            "padding": null,
            "right": null,
            "top": null,
            "visibility": null,
            "width": null
          }
        },
        "ae9bdd3869194cd9ab94bbb1fdfe80ee": {
          "model_module": "@jupyter-widgets/base",
          "model_name": "LayoutModel",
          "model_module_version": "1.2.0",
          "state": {
            "_model_module": "@jupyter-widgets/base",
            "_model_module_version": "1.2.0",
            "_model_name": "LayoutModel",
            "_view_count": null,
            "_view_module": "@jupyter-widgets/base",
            "_view_module_version": "1.2.0",
            "_view_name": "LayoutView",
            "align_content": null,
            "align_items": null,
            "align_self": null,
            "border": null,
            "bottom": null,
            "display": null,
            "flex": null,
            "flex_flow": null,
            "grid_area": null,
            "grid_auto_columns": null,
            "grid_auto_flow": null,
            "grid_auto_rows": null,
            "grid_column": null,
            "grid_gap": null,
            "grid_row": null,
            "grid_template_areas": null,
            "grid_template_columns": null,
            "grid_template_rows": null,
            "height": null,
            "justify_content": null,
            "justify_items": null,
            "left": null,
            "margin": null,
            "max_height": null,
            "max_width": null,
            "min_height": null,
            "min_width": null,
            "object_fit": null,
            "object_position": null,
            "order": null,
            "overflow": null,
            "overflow_x": null,
            "overflow_y": null,
            "padding": null,
            "right": null,
            "top": null,
            "visibility": null,
            "width": null
          }
        },
        "29a4457b57644981a4fb57cb5e4dbf8f": {
          "model_module": "@jupyter-widgets/controls",
          "model_name": "DescriptionStyleModel",
          "model_module_version": "1.5.0",
          "state": {
            "_model_module": "@jupyter-widgets/controls",
            "_model_module_version": "1.5.0",
            "_model_name": "DescriptionStyleModel",
            "_view_count": null,
            "_view_module": "@jupyter-widgets/base",
            "_view_module_version": "1.2.0",
            "_view_name": "StyleView",
            "description_width": ""
          }
        },
        "c020c6d26a5b48a582aa3498da2958a3": {
          "model_module": "@jupyter-widgets/base",
          "model_name": "LayoutModel",
          "model_module_version": "1.2.0",
          "state": {
            "_model_module": "@jupyter-widgets/base",
            "_model_module_version": "1.2.0",
            "_model_name": "LayoutModel",
            "_view_count": null,
            "_view_module": "@jupyter-widgets/base",
            "_view_module_version": "1.2.0",
            "_view_name": "LayoutView",
            "align_content": null,
            "align_items": null,
            "align_self": null,
            "border": null,
            "bottom": null,
            "display": null,
            "flex": null,
            "flex_flow": null,
            "grid_area": null,
            "grid_auto_columns": null,
            "grid_auto_flow": null,
            "grid_auto_rows": null,
            "grid_column": null,
            "grid_gap": null,
            "grid_row": null,
            "grid_template_areas": null,
            "grid_template_columns": null,
            "grid_template_rows": null,
            "height": null,
            "justify_content": null,
            "justify_items": null,
            "left": null,
            "margin": null,
            "max_height": null,
            "max_width": null,
            "min_height": null,
            "min_width": null,
            "object_fit": null,
            "object_position": null,
            "order": null,
            "overflow": null,
            "overflow_x": null,
            "overflow_y": null,
            "padding": null,
            "right": null,
            "top": null,
            "visibility": null,
            "width": null
          }
        },
        "8805f5ff49a0450b806b414f1bc1042c": {
          "model_module": "@jupyter-widgets/controls",
          "model_name": "ProgressStyleModel",
          "model_module_version": "1.5.0",
          "state": {
            "_model_module": "@jupyter-widgets/controls",
            "_model_module_version": "1.5.0",
            "_model_name": "ProgressStyleModel",
            "_view_count": null,
            "_view_module": "@jupyter-widgets/base",
            "_view_module_version": "1.2.0",
            "_view_name": "StyleView",
            "bar_color": null,
            "description_width": ""
          }
        },
        "84309763f27b48b3a884751f53e45adf": {
          "model_module": "@jupyter-widgets/base",
          "model_name": "LayoutModel",
          "model_module_version": "1.2.0",
          "state": {
            "_model_module": "@jupyter-widgets/base",
            "_model_module_version": "1.2.0",
            "_model_name": "LayoutModel",
            "_view_count": null,
            "_view_module": "@jupyter-widgets/base",
            "_view_module_version": "1.2.0",
            "_view_name": "LayoutView",
            "align_content": null,
            "align_items": null,
            "align_self": null,
            "border": null,
            "bottom": null,
            "display": null,
            "flex": null,
            "flex_flow": null,
            "grid_area": null,
            "grid_auto_columns": null,
            "grid_auto_flow": null,
            "grid_auto_rows": null,
            "grid_column": null,
            "grid_gap": null,
            "grid_row": null,
            "grid_template_areas": null,
            "grid_template_columns": null,
            "grid_template_rows": null,
            "height": null,
            "justify_content": null,
            "justify_items": null,
            "left": null,
            "margin": null,
            "max_height": null,
            "max_width": null,
            "min_height": null,
            "min_width": null,
            "object_fit": null,
            "object_position": null,
            "order": null,
            "overflow": null,
            "overflow_x": null,
            "overflow_y": null,
            "padding": null,
            "right": null,
            "top": null,
            "visibility": null,
            "width": null
          }
        },
        "8785ec4723004a39bfba455d89fefd77": {
          "model_module": "@jupyter-widgets/controls",
          "model_name": "DescriptionStyleModel",
          "model_module_version": "1.5.0",
          "state": {
            "_model_module": "@jupyter-widgets/controls",
            "_model_module_version": "1.5.0",
            "_model_name": "DescriptionStyleModel",
            "_view_count": null,
            "_view_module": "@jupyter-widgets/base",
            "_view_module_version": "1.2.0",
            "_view_name": "StyleView",
            "description_width": ""
          }
        }
      }
    }
  },
  "nbformat": 4,
  "nbformat_minor": 0
}