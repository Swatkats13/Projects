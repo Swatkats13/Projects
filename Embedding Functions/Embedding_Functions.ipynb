{
  "cells": [
    {
      "cell_type": "markdown",
      "id": "8aa287fd",
      "metadata": {
        "id": "8aa287fd"
      },
      "source": [
        "## Goal :  Embedding Functions\n",
        "\n",
        "Using the appropriate model, anything can be embedded. For this project we're going to use embeddings to do semantic search over Rick and Morty quotes."
      ]
    },
    {
      "cell_type": "markdown",
      "id": "0d083439",
      "metadata": {
        "id": "0d083439"
      },
      "source": [
        "### [HuggingFace Sentence Transformers](https://huggingface.co/sentence-transformers)\n",
        "\n"
      ]
    },
    {
      "cell_type": "code",
      "execution_count": null,
      "id": "469f4d66-a085-4cde-b147-0f21d9d92dca",
      "metadata": {
        "id": "469f4d66-a085-4cde-b147-0f21d9d92dca"
      },
      "outputs": [],
      "source": [
        "!pip install -U --quiet sentence-transformers==2.5.1 transformers==4.36.0"
      ]
    },
    {
      "cell_type": "code",
      "execution_count": null,
      "id": "dbe2dc2d",
      "metadata": {
        "id": "dbe2dc2d",
        "outputId": "3172f329-c3d5-4c53-9cb5-d108f5085d87"
      },
      "outputs": [
        {
          "name": "stdout",
          "output_type": "stream",
          "text": [
            "sentence-transformers==2.5.1\r\n",
            "transformers==4.36.0\r\n"
          ]
        }
      ],
      "source": [
        "!pip freeze | grep transformers"
      ]
    },
    {
      "cell_type": "markdown",
      "id": "f1b3b013",
      "metadata": {
        "id": "f1b3b013"
      },
      "source": [
        "### Read data\n",
        "\n",
        "We read the quotes from the included text file (source: https://parade.com/tv/rick-and-morty-quotes).\n",
        "Here each quote lives on it's own line of text. So we just do `readlines` here. We use the context manager to close resources."
      ]
    },
    {
      "cell_type": "code",
      "execution_count": null,
      "id": "4752d905",
      "metadata": {
        "id": "4752d905"
      },
      "outputs": [],
      "source": [
        "def read_quotes() -> list[str]:\n",
        "    with open(\"rick_and_morty_quotes.txt\", \"r\") as fh:\n",
        "        return fh.readlines()"
      ]
    },
    {
      "cell_type": "code",
      "execution_count": null,
      "id": "7e30bd55",
      "metadata": {
        "id": "7e30bd55",
        "outputId": "667f6463-bc38-46d8-9cbc-c2d37d8b3777"
      },
      "outputs": [
        {
          "data": {
            "text/plain": [
              "[\"Losers look stuff up while the rest of us are carpin' all them diems.\\n\",\n",
              " \"He's not a hot girl. He can't just bail on his life and set up shop in someone else's.\\n\",\n",
              " \"When you are an a—hole, it doesn't matter how right you are. Nobody wants to give you the satisfaction.\\n\"]"
            ]
          },
          "execution_count": 4,
          "metadata": {},
          "output_type": "execute_result"
        }
      ],
      "source": [
        "rick_and_morty_quotes = read_quotes()\n",
        "rick_and_morty_quotes[:3]"
      ]
    },
    {
      "cell_type": "markdown",
      "id": "05d797b9",
      "metadata": {
        "id": "05d797b9"
      },
      "source": [
        "Oops it seems like we have some extra newlines at the end of these quotes. Does that matter?\n",
        "How do we prove it to ourselves?\n",
        "It turns out the answer is no. The reason is because the transformer library will strip the text of special characters."
      ]
    },
    {
      "cell_type": "code",
      "execution_count": null,
      "id": "d5aeae5d",
      "metadata": {
        "colab": {
          "referenced_widgets": [
            "a9900ae87bcf456782eeafb0f483c7e2",
            "a7d6982eccb2414fa7eba5ef7b39be7c",
            "ad07d3beff0d47e89ba8421012adc95a",
            "b8d7d5d6ea464ac28cdd152ca953f7bd",
            "ac20f6fa94164d8ea9bf301aac462f1d",
            "92cb6d5ff8024f4daa5dcfaec851b956",
            "d7c701d5277a4b7da4e4a4c9207620b4",
            "2761ec2d9839466793980d00d9dab1cc",
            "6392232378a54ad6b12c62e2872475b3",
            "d95654f1a72249ef9cd662c0fc13b62a",
            "0f72fadacd5d47e690103d4b7ad9c77e"
          ]
        },
        "id": "d5aeae5d",
        "outputId": "d07ff5e0-03ea-4f3d-fbdf-874b87cbd3c9"
      },
      "outputs": [
        {
          "data": {
            "application/vnd.jupyter.widget-view+json": {
              "model_id": "a9900ae87bcf456782eeafb0f483c7e2",
              "version_major": 2,
              "version_minor": 0
            },
            "text/plain": [
              "modules.json:   0%|          | 0.00/229 [00:00<?, ?B/s]"
            ]
          },
          "metadata": {},
          "output_type": "display_data"
        },
        {
          "data": {
            "application/vnd.jupyter.widget-view+json": {
              "model_id": "a7d6982eccb2414fa7eba5ef7b39be7c",
              "version_major": 2,
              "version_minor": 0
            },
            "text/plain": [
              "config_sentence_transformers.json:   0%|          | 0.00/122 [00:00<?, ?B/s]"
            ]
          },
          "metadata": {},
          "output_type": "display_data"
        },
        {
          "data": {
            "application/vnd.jupyter.widget-view+json": {
              "model_id": "ad07d3beff0d47e89ba8421012adc95a",
              "version_major": 2,
              "version_minor": 0
            },
            "text/plain": [
              "README.md: 0.00B [00:00, ?B/s]"
            ]
          },
          "metadata": {},
          "output_type": "display_data"
        },
        {
          "data": {
            "application/vnd.jupyter.widget-view+json": {
              "model_id": "b8d7d5d6ea464ac28cdd152ca953f7bd",
              "version_major": 2,
              "version_minor": 0
            },
            "text/plain": [
              "sentence_bert_config.json:   0%|          | 0.00/53.0 [00:00<?, ?B/s]"
            ]
          },
          "metadata": {},
          "output_type": "display_data"
        },
        {
          "data": {
            "application/vnd.jupyter.widget-view+json": {
              "model_id": "ac20f6fa94164d8ea9bf301aac462f1d",
              "version_major": 2,
              "version_minor": 0
            },
            "text/plain": [
              "config.json:   0%|          | 0.00/629 [00:00<?, ?B/s]"
            ]
          },
          "metadata": {},
          "output_type": "display_data"
        },
        {
          "data": {
            "application/vnd.jupyter.widget-view+json": {
              "model_id": "92cb6d5ff8024f4daa5dcfaec851b956",
              "version_major": 2,
              "version_minor": 0
            },
            "text/plain": [
              "model.safetensors:   0%|          | 0.00/90.9M [00:00<?, ?B/s]"
            ]
          },
          "metadata": {},
          "output_type": "display_data"
        },
        {
          "data": {
            "application/vnd.jupyter.widget-view+json": {
              "model_id": "d7c701d5277a4b7da4e4a4c9207620b4",
              "version_major": 2,
              "version_minor": 0
            },
            "text/plain": [
              "tokenizer_config.json:   0%|          | 0.00/314 [00:00<?, ?B/s]"
            ]
          },
          "metadata": {},
          "output_type": "display_data"
        },
        {
          "data": {
            "application/vnd.jupyter.widget-view+json": {
              "model_id": "2761ec2d9839466793980d00d9dab1cc",
              "version_major": 2,
              "version_minor": 0
            },
            "text/plain": [
              "vocab.txt: 0.00B [00:00, ?B/s]"
            ]
          },
          "metadata": {},
          "output_type": "display_data"
        },
        {
          "data": {
            "application/vnd.jupyter.widget-view+json": {
              "model_id": "6392232378a54ad6b12c62e2872475b3",
              "version_major": 2,
              "version_minor": 0
            },
            "text/plain": [
              "tokenizer.json: 0.00B [00:00, ?B/s]"
            ]
          },
          "metadata": {},
          "output_type": "display_data"
        },
        {
          "data": {
            "application/vnd.jupyter.widget-view+json": {
              "model_id": "d95654f1a72249ef9cd662c0fc13b62a",
              "version_major": 2,
              "version_minor": 0
            },
            "text/plain": [
              "special_tokens_map.json:   0%|          | 0.00/112 [00:00<?, ?B/s]"
            ]
          },
          "metadata": {},
          "output_type": "display_data"
        },
        {
          "data": {
            "application/vnd.jupyter.widget-view+json": {
              "model_id": "0f72fadacd5d47e690103d4b7ad9c77e",
              "version_major": 2,
              "version_minor": 0
            },
            "text/plain": [
              "1_Pooling/config.json:   0%|          | 0.00/190 [00:00<?, ?B/s]"
            ]
          },
          "metadata": {},
          "output_type": "display_data"
        },
        {
          "data": {
            "text/plain": [
              "True"
            ]
          },
          "execution_count": 5,
          "metadata": {},
          "output_type": "execute_result"
        }
      ],
      "source": [
        "import numpy as np\n",
        "from sentence_transformers import SentenceTransformer\n",
        "\n",
        "model = SentenceTransformer('paraphrase-MiniLM-L6-v2')\n",
        "\n",
        "emb1, emb2 = model.encode([\n",
        " \"Losers look stuff up while the rest of us are carpin' all them diems.\\n\",\n",
        " \"Losers look stuff up while the rest of us are carpin' all them diems.\"\n",
        "])\n",
        "\n",
        "np.allclose(emb1, emb2)"
      ]
    },
    {
      "cell_type": "markdown",
      "id": "42091888",
      "metadata": {
        "id": "42091888"
      },
      "source": [
        "### Write function to generate embeddings from text\n",
        "\n",
        "Write a function that turns text into embeddings using Sentence Transformers.\n",
        "\n",
        "\n",
        "1. Choose a [pre-trained model](https://www.sbert.net/docs/pretrained_models.html), we don't need to create our own\n",
        "2. See the API documentation and examples for Sentence Transformers to see how to encode text\n",
        "\n",
        "\n",
        "Sentence Transformers make this pretty easy. First we load the model using the model name we chose.\n",
        "Then we call the `model.encode()` function to generate the embeddings. If we pass in a single string,\n",
        "then a 1D numpy array is returned. Otherwise a 2D array is returned."
      ]
    },
    {
      "cell_type": "code",
      "execution_count": null,
      "id": "ecef78e0",
      "metadata": {
        "id": "ecef78e0"
      },
      "outputs": [],
      "source": [
        "import numpy as np\n",
        "from sentence_transformers import SentenceTransformer\n",
        "from typing import Union\n",
        "\n",
        "MODEL_NAME = 'paraphrase-MiniLM-L6-v2'\n",
        "\n",
        "def generate_embeddings(input_data: Union[str, list[str]]) -> np.ndarray:\n",
        "    model = SentenceTransformer(MODEL_NAME)\n",
        "    embeddings = model.encode(input_data)\n",
        "    return embeddings"
      ]
    },
    {
      "cell_type": "code",
      "execution_count": null,
      "id": "4acd1b5d",
      "metadata": {
        "id": "4acd1b5d"
      },
      "outputs": [],
      "source": [
        "embeddings = generate_embeddings(rick_and_morty_quotes)"
      ]
    },
    {
      "cell_type": "code",
      "execution_count": null,
      "id": "fec1962c",
      "metadata": {
        "id": "fec1962c",
        "outputId": "3dcd3634-85f0-4242-d254-ad4f78c54a5f"
      },
      "outputs": [
        {
          "name": "stdout",
          "output_type": "stream",
          "text": [
            "Sentence: Losers look stuff up while the rest of us are carpin' all them diems.\n",
            "\n",
            "Embedding: [ 0.6188345   0.06881799  0.44374305 -0.45357847  0.30271497 -0.10784142\n",
            "  0.4952488  -0.12448785  0.05482465 -0.04262822  0.04789169 -0.31940377\n",
            "  0.18216974 -0.27199626 -0.14199588 -0.56009746 -0.35566285 -0.44555157\n",
            " -0.03909524  0.42247924 -0.4604969   0.26436502  0.16821663  0.34295756\n",
            "  0.20552608  0.20994833 -0.07352602 -0.0243092  -0.07486243  0.41356117\n",
            " -0.09713856 -0.02470837  0.02246359  0.10461547  0.25205338 -0.05957111\n",
            "  0.02156227  0.24379666  0.20664053 -0.40555897 -0.18285899  0.13926435\n",
            " -0.29004836  0.14936377 -0.17484201 -0.22140746 -0.01152995 -0.1715579\n",
            "  0.2581103   0.01463477 -0.05509421  0.02583265  0.01430671 -0.13821091\n",
            "  0.16159977 -0.56482404  0.4062962   0.08129338  0.18729608 -0.06932873\n",
            " -0.17729421 -0.1006496   0.3024407  -0.2205626  -0.2050517   0.13730268\n",
            "  0.32069105  0.22979245 -0.22806767  0.37576777 -0.17270264 -0.17178848\n",
            "  0.16163573  0.5295059  -0.19358149  0.46644586  0.0337541  -0.32218984\n",
            "  0.25071445  0.26180184 -0.11650538 -0.11361156 -0.01169207 -0.16542387\n",
            "  0.2108756  -0.19529703 -0.27603588  0.34108618  0.09089601  0.19823954\n",
            " -0.69573534  0.08060019  0.49488622  0.28370565 -0.16724667  0.289326\n",
            "  0.36100432  0.16865285 -0.13426498  0.47249705 -0.30755457  0.42944604\n",
            "  0.2003626  -0.08961789  0.19713625  0.0755918   0.07411927  0.02200822\n",
            "  0.5570717  -0.09810328  0.03971262 -0.02432551 -0.0777637  -0.20593329\n",
            " -0.35059553 -0.8418843  -0.3129551  -0.38629907 -0.37236136 -0.40910783\n",
            "  0.47618356  0.5926694   0.11413406  0.22072048  0.49948126 -0.19160607\n",
            " -0.41586024  0.1126734   0.20042889  0.30439833 -0.00314915  0.11022617\n",
            " -0.25686538 -0.30135408 -0.619139   -0.20062344  0.3748207  -0.03782335\n",
            " -0.21593265 -0.4082343  -0.21215561 -0.16902235  0.13701554 -0.00647857\n",
            " -0.30313835  0.33166754 -0.29025513  0.07412589 -0.2648221   0.06010575\n",
            "  0.55932695  0.14433989 -0.39258724  0.41255292 -0.41214544 -0.05728666\n",
            " -0.14448161 -0.09726038 -0.15759885  0.05121953  0.5609559  -0.11610104\n",
            " -0.00311886 -0.05660408  0.509565    0.3264144  -0.17665611  0.07632738\n",
            "  0.27565584  0.4217853   0.03994927  0.4319288   0.4272457  -0.11242148\n",
            "  0.21913716 -0.39946944 -0.36966553  0.22030286  0.09971036  0.01918299\n",
            " -0.21673557  0.0948936  -0.25077632  0.01753998 -0.39546642 -0.44163194\n",
            " -0.15101975 -0.5128851   0.27344254 -0.40432215 -0.09484341 -0.26826936\n",
            " -0.11649086  0.33037242 -0.03412965  0.23659241 -0.35722607  0.01821278\n",
            "  0.11269784 -0.23307042 -0.26353604 -0.24258184 -0.36362228  0.05046574\n",
            "  0.5022081  -0.06960873  0.05929388 -0.38626552  0.9476509   0.06064941\n",
            " -0.25886208 -0.49255675  0.3860801  -0.08520369  0.52008486 -0.8935667\n",
            "  0.0512659   0.04134265 -0.40481502 -0.10136457  0.08654969 -0.34894162\n",
            " -0.18193582 -0.14537117 -0.25251085  0.09326251 -0.01024285 -0.11329108\n",
            "  0.07150646 -0.07426381  0.13683295  0.5716336  -0.01691095  0.0077238\n",
            " -0.53493255 -0.10065483  0.0812996   0.3833532   0.14520618 -0.20806293\n",
            "  0.45251316 -0.09593166  0.30481854 -0.3691925  -0.08476077  0.28359705\n",
            " -0.1831682   0.3259098  -0.15106069  0.32825768 -0.1621941   0.05057325\n",
            "  0.05511861 -0.39626288  0.46437174 -0.33323893  0.15735653 -0.01947441\n",
            "  0.13496418  0.12672241 -0.3073154  -0.01181474 -0.41150713 -0.38355103\n",
            " -0.15553392 -0.44748527 -0.61607456  0.022611   -0.378757   -0.10427636\n",
            " -0.18722257  0.07521596  0.05064269 -0.04699454  0.12387016 -0.14042448\n",
            "  0.16632642 -0.0337519  -0.24301977  0.05370175  0.17221907 -0.25990787\n",
            "  0.11018727 -0.05836086  0.10265382  0.0252027  -0.25592524  0.05407694\n",
            "  0.16645688  0.26698455 -0.19572213  0.25751337 -0.3925194   0.17134447\n",
            " -0.0524068  -0.46437207 -0.7972688  -0.18338014  0.14928159  0.3093308\n",
            " -0.34678024  0.39869615  0.27848986 -0.06287789  0.36420143 -0.36606663\n",
            "  0.325374    0.50986135 -0.08266585  0.23792174  0.07164212  0.25320724\n",
            "  0.02762422  0.40071505 -0.04514872 -0.49770603  0.0577619  -0.02692825\n",
            " -0.19000217  0.34891558  0.17590275  0.13099208 -0.02848848  0.15960112\n",
            " -0.2278362  -0.14951977  0.1713476   0.14609668  0.1081755   0.36905164\n",
            " -0.07382785 -0.2465353   0.17928116 -0.0318635   0.3244474   0.76283\n",
            " -0.510543   -0.15914512 -0.19951378 -0.27159142 -0.41596913  0.02651813\n",
            "  0.22300473  0.0629098   0.2620632   0.05851189 -0.0880532  -0.03508412\n",
            " -0.1349666   0.4921074  -0.25252098 -0.04466324  0.20742333 -0.179435\n",
            "  0.45441622  0.07763744 -0.12198798 -0.08869875  0.5057154  -0.04046198\n",
            " -0.27317485 -0.19101962  0.15900895 -0.23057222 -0.07520987 -0.11864426\n",
            "  0.13447425  0.21590562 -0.18623109 -0.29610446  0.09354616 -0.3307959\n",
            " -0.40506864  0.1719027   0.18207954 -0.7545943   0.05614211  0.5128261\n",
            "  0.00159964 -0.03459663  0.20281413 -0.24082065  0.1308299   0.1682313 ]\n",
            "\n",
            "Sentence: He's not a hot girl. He can't just bail on his life and set up shop in someone else's.\n",
            "\n",
            "Embedding: [ 2.01674193e-01 -1.17518939e-02 -1.97244644e-01 -3.04190129e-01\n",
            "  5.43192923e-02 -8.76944629e-04  2.66353607e-01  7.49860927e-02\n",
            " -4.20094103e-01 -3.13161790e-01  3.20731580e-01  1.37154490e-01\n",
            "  1.07847460e-01  1.96500778e-01  1.07706316e-01 -3.17422599e-01\n",
            " -1.02111720e-01 -7.24549219e-02 -5.02358656e-03  4.36054945e-01\n",
            " -2.66947269e-01 -2.30257995e-02  2.98427582e-01 -3.38997804e-02\n",
            " -2.20304683e-01 -2.68208981e-01  3.32408965e-01 -1.47794589e-01\n",
            " -5.72911978e-01  3.67668808e-01  4.28969085e-01  1.62881121e-01\n",
            " -3.06798846e-01 -3.02126318e-01  1.84050396e-01 -2.14842781e-01\n",
            " -1.12983130e-01  1.58913091e-01  1.74947143e-01 -1.79805532e-01\n",
            "  3.48674715e-01 -2.31452286e-01 -2.50178248e-01  2.30362695e-02\n",
            " -3.37087184e-01  1.89424958e-02  3.04937065e-01 -1.29546463e-01\n",
            "  4.47622240e-02 -3.90804678e-01 -3.94263893e-01  2.74904341e-01\n",
            "  2.37087026e-01 -5.22370934e-01  1.70682862e-01  2.64030606e-01\n",
            "  4.96018052e-01  4.29217517e-02 -3.52166444e-02 -8.91136155e-02\n",
            "  1.00425273e-01  3.38130504e-01  5.93859563e-03  9.65237617e-02\n",
            "  1.57842219e-01 -8.61563832e-02 -1.62861004e-01 -2.46259682e-02\n",
            " -1.46172687e-01  1.91169217e-01  5.74240088e-01 -1.75021827e-01\n",
            " -2.00958028e-01  3.91479880e-01 -3.06665152e-01 -2.52008200e-01\n",
            "  6.24463484e-02 -1.03100330e-01  2.05546215e-01  3.34322751e-01\n",
            " -5.11850238e-01 -4.40650672e-01 -1.26492858e-01 -6.76678047e-02\n",
            " -4.79900748e-01 -5.34120575e-02 -5.88532761e-02 -1.93345249e-01\n",
            "  3.02998275e-02  2.44659230e-01 -2.08851136e-02  1.12851091e-01\n",
            "  1.85540259e-01 -2.57733375e-01 -2.02465311e-01 -6.83680028e-02\n",
            " -1.54691562e-01  5.39062262e-01 -1.18906772e+00  8.16082116e-04\n",
            "  1.52005076e-01  3.07463884e-01  2.17691854e-01  2.13403434e-01\n",
            "  6.17416263e-01 -1.28053099e-01  1.75687537e-01  4.17822570e-01\n",
            " -7.42466971e-02 -3.60283762e-01 -1.60315037e-01 -8.37027282e-03\n",
            " -1.65583268e-02  1.47038908e-03  2.43009627e-01 -8.30771849e-02\n",
            " -1.36098966e-01 -2.99741104e-02 -1.71927899e-01  1.90777391e-01\n",
            "  1.17786705e-01  4.01446432e-01 -2.54667073e-01  1.26217350e-01\n",
            " -1.25881493e-01 -2.65527368e-01 -2.53548950e-01  1.90694317e-01\n",
            "  2.33146533e-01  2.47017056e-01 -1.77822053e-01 -5.68903703e-03\n",
            " -2.11998187e-02  2.72743315e-01  7.71565959e-02 -3.20068538e-01\n",
            "  1.70897901e-01  4.68767762e-01  1.81444973e-01 -3.40045802e-02\n",
            " -4.49117273e-02  5.69060683e-01 -2.39665851e-01  1.95533186e-01\n",
            "  5.01357391e-02 -1.21802807e-01  3.32645446e-01 -3.42229456e-01\n",
            " -1.28068864e-01 -2.47755684e-02 -4.91093248e-02 -8.96286592e-03\n",
            "  2.50986040e-01 -1.86665878e-01 -9.39385965e-02 -3.07990193e-01\n",
            "  1.68385491e-01  1.35647148e-01 -4.32763919e-02  5.58294475e-01\n",
            "  2.42633954e-01  2.29460448e-01  1.62878543e-01 -1.44186512e-01\n",
            " -4.07972962e-01  4.25230265e-02 -4.95619684e-01  1.71964675e-01\n",
            "  9.47464779e-02  2.24794447e-01  1.98465005e-01  2.35759988e-01\n",
            " -4.75734264e-01 -9.66545194e-03  8.54943320e-02  8.37771297e-02\n",
            "  4.73560533e-03 -1.79467842e-01  3.37667584e-01 -1.53293416e-01\n",
            " -2.54521072e-01  7.28941038e-02 -5.10909677e-01 -1.94303885e-01\n",
            "  1.90392196e-01 -1.86849952e-01  2.90692508e-01  3.62403505e-02\n",
            "  1.95856884e-01 -2.21661925e-01 -1.68340579e-01 -7.31080174e-02\n",
            " -1.63258925e-01 -3.45601916e-01 -4.90207318e-03 -2.19930828e-01\n",
            " -2.60996163e-01  5.70609719e-02  2.88494766e-01 -2.10749522e-01\n",
            "  3.45075279e-02 -1.16724595e-02  6.43911809e-02 -4.72679257e-01\n",
            "  1.58511460e-01  4.15862054e-02 -2.59189963e-01 -1.55933604e-01\n",
            "  2.66252398e-01 -7.79356956e-02  7.67620951e-02  2.15029970e-01\n",
            " -1.54986545e-01  1.42807484e-01  1.99170738e-01  1.51516488e-02\n",
            "  2.81990379e-01  3.35348248e-01  4.87287968e-01  1.41259089e-01\n",
            " -2.48754799e-01 -1.54698148e-01  5.01212813e-02 -6.37626797e-02\n",
            " -2.63613403e-01 -1.72158763e-01  2.56687880e-01 -1.45380706e-01\n",
            "  1.23535283e-01  7.88042098e-02 -4.47410315e-01 -7.84786791e-02\n",
            "  1.02858163e-01 -3.97337340e-02 -6.86330736e-01 -2.03850232e-02\n",
            "  4.53696191e-01 -2.15641990e-01  1.58127457e-01  5.25746122e-02\n",
            "  1.32663906e-01  1.15406122e-02  3.75465155e-02  4.68715504e-02\n",
            "  3.39034311e-02  3.30774665e-01  7.69392401e-02  1.11241423e-01\n",
            " -1.63211569e-01 -1.87625602e-01 -3.57516050e-01  4.72606927e-01\n",
            " -2.31325999e-01  1.64535403e-01 -1.85011663e-02 -8.13288894e-03\n",
            " -2.27238268e-01  1.58036500e-02  3.18387374e-02  9.30265263e-02\n",
            " -5.18441439e-01  3.61194313e-01 -1.75140709e-01 -1.08118303e-01\n",
            "  2.38962821e-03 -2.85642415e-01 -2.38615628e-02 -2.51957834e-01\n",
            "  2.95522988e-01  1.15002714e-01 -6.74727708e-02 -1.62457004e-01\n",
            "  8.62158909e-02  1.81989506e-01 -2.21027732e-01  1.27386421e-01\n",
            "  3.76605727e-02  2.47423306e-01 -5.26613951e-01  7.98623115e-02\n",
            " -1.32608384e-01  6.34470135e-02 -1.45857513e-01 -7.76822492e-02\n",
            "  5.68400323e-01  3.39020967e-01  1.65791512e-01  3.60498101e-01\n",
            " -1.72263265e-01  7.78246671e-02 -1.06516100e-01 -2.27213651e-02\n",
            " -3.41141254e-01 -2.95807332e-01 -1.94644883e-01 -5.11717558e-01\n",
            "  8.07220638e-02 -3.98669578e-03 -1.39564812e-01  1.57056019e-01\n",
            "  7.24214539e-02 -1.30358741e-01  3.20452899e-01 -5.57780683e-01\n",
            "  1.30440012e-01  9.66083482e-02 -6.51049018e-02 -3.03975970e-01\n",
            " -1.78310409e-01  3.30781609e-01 -6.03073314e-02  2.44728118e-01\n",
            "  8.24836344e-02  5.48460893e-02  2.26458192e-01 -1.60569355e-01\n",
            "  4.99700829e-02  5.44031076e-02 -1.82396114e-01  2.45792553e-01\n",
            " -2.88517863e-01 -1.32516682e-01 -1.37435198e-01  3.44175398e-01\n",
            "  1.71373069e-01  3.55939806e-01 -1.63959712e-02 -2.77139097e-01\n",
            "  2.04211801e-01  5.82839251e-01 -1.07634179e-01  4.31619436e-02\n",
            " -1.54492572e-01  9.01516005e-02 -3.25704068e-01 -9.78769511e-02\n",
            "  4.56052832e-03 -2.87920654e-01 -1.41395077e-01  2.89322019e-01\n",
            "  1.06203750e-01 -1.65000726e-02  2.98075497e-01  1.85322732e-01\n",
            "  1.30473465e-01  1.06883503e-01  3.07221413e-01  4.93715983e-03\n",
            "  5.53086579e-01  2.49943048e-01  1.47053152e-01 -8.28884393e-02\n",
            "  8.65174159e-02  1.05395034e-01  5.18724918e-02 -1.94722071e-01\n",
            "  1.06013805e-01  1.38820648e-01 -8.54411051e-02 -3.34686548e-01\n",
            " -1.21759959e-01 -4.17958677e-01 -1.03430696e-01 -5.76506369e-02\n",
            " -5.58921210e-02  9.73098502e-02  3.32130156e-02  2.91450292e-01\n",
            " -2.58648470e-02  1.15868896e-01 -1.90636963e-01 -2.32430950e-01\n",
            "  6.74394146e-02 -4.09589112e-01  5.50839193e-02 -3.73490959e-01\n",
            " -1.29034132e-01  2.11658180e-01  1.37577385e-01 -3.90343577e-01\n",
            " -2.96991885e-01 -2.00201496e-01  1.50914669e-01  2.69945890e-01]\n",
            "\n",
            "Sentence: When you are an a—hole, it doesn't matter how right you are. Nobody wants to give you the satisfaction.\n",
            "\n",
            "Embedding: [ 0.10145384 -0.04251496 -0.13387147 -0.07292946 -0.33513165 -0.12456761\n",
            "  0.06433099  0.05938543  0.40236792  0.07179157  0.31592077 -0.00592402\n",
            "  0.17446992 -0.05143535  0.0132807   0.07984561  0.01220228 -0.3629664\n",
            " -0.4187743   0.08416035 -0.5120673  -0.03496026  0.15012376  0.1295109\n",
            " -0.2144694   0.04774765 -0.0901696   0.2286196  -0.35491893  0.0460451\n",
            "  0.11679481 -0.33062977 -0.07069121  0.01485001  0.05424372  0.4036738\n",
            " -0.2096668   0.179916    0.22838998 -0.60087174 -0.05185502 -0.14535843\n",
            " -0.10091984  0.18277262  0.07512181 -0.12635311  0.598646   -0.09982597\n",
            " -0.11848997 -0.17461073 -0.2712646   0.36700755 -0.19859512  0.28633967\n",
            "  0.08735822  0.22450086 -0.14906502 -0.15356238  0.05608111 -0.12106045\n",
            " -0.08474959  0.15917651  0.05783731  0.04546299  0.03422738  0.1614862\n",
            "  0.09719706  0.0132016  -0.5821888   0.39625925 -0.04012     0.00718207\n",
            "  0.03259419  0.44885704  0.24826257  0.01433456  0.05060633  0.08415616\n",
            " -0.02786944  0.534523   -0.01287806  0.07030248 -0.261647    0.06053124\n",
            " -0.43931314 -0.05552306  0.32894203  0.29036126  0.43850943 -0.3369283\n",
            " -0.26293007  0.25299722 -0.28120488 -0.1133306   0.24837868 -0.18527034\n",
            " -0.18992499 -0.05360028 -0.69251645  0.16149092 -0.13696451 -0.03731832\n",
            " -0.46237722 -0.18223473  0.4337286   0.17021488 -0.14007549  0.17935668\n",
            " -0.23543702  0.18045895 -0.43012568 -0.30948475  0.12954745 -0.18467422\n",
            " -0.26901048  0.05719742 -0.39339262  0.03934803  0.40748265  0.04268175\n",
            " -0.2602944  -0.10518914 -0.07910521  0.19977973  0.04591944 -0.3727782\n",
            "  0.11658728 -0.15496202 -0.05598331  0.09743851  0.20056728 -0.29608867\n",
            " -0.37265232  0.14020428 -0.01995363  0.03562796  0.3533888   0.462595\n",
            "  0.1296873  -0.09809057  0.28635123  0.68294346  0.29492524  0.0163402\n",
            " -0.24790005 -0.27517223 -0.05726481  0.33616537  0.1708558  -0.2197592\n",
            " -0.49807718  0.13425766 -0.43466046 -0.57651377 -0.18277435  0.25713167\n",
            " -0.28641775 -0.14635365 -0.27824402 -0.01437873  0.20568626 -0.16028094\n",
            "  0.04940594 -0.4450125  -0.29403284  0.34279016 -0.08316132 -0.24030565\n",
            " -0.17917469  0.13652928 -0.2862273  -0.00075215  0.39193314  0.16903012\n",
            " -0.05471166 -0.03226846 -0.25184378 -0.03802399  0.2965931   0.24315813\n",
            "  0.28947252  0.4255944  -0.21424794 -0.10718895  0.08134592  0.17576195\n",
            " -0.1731282   0.04289761 -0.06379345 -0.28326976  0.00128505 -0.08202542\n",
            " -0.12483559  0.3270933   0.0357544   0.09126671  0.29651096 -0.18301706\n",
            "  0.11482622  0.007749    0.10038544 -0.30947495  0.08493479 -0.38369006\n",
            "  0.07776625 -0.11921967  0.5660509   0.03028104 -0.24256726 -0.01547829\n",
            " -0.07542671 -0.38561526 -0.14138786 -0.10064495 -0.0214729   0.10633173\n",
            " -0.04333931  0.13319209 -0.14134343  0.06772604 -0.037786    0.17857184\n",
            "  0.19166969 -0.05977257 -0.06571389 -0.40886062  0.18013851  0.05738675\n",
            " -0.16476476  0.24331488  0.21911465 -0.4436965   0.05688047  0.74598175\n",
            " -0.07792626  0.03488463  0.11889434 -0.10401056  0.11710393  0.10545968\n",
            " -0.41290528 -0.03833199  0.16827704  0.46066406 -0.11183274  0.5348903\n",
            " -0.00130887 -0.11003566 -0.04062066  0.1477443  -0.09438757 -0.09798949\n",
            "  0.1336991   0.16774347 -0.12303072 -0.13175489 -0.5371482  -0.16619352\n",
            " -0.35381418 -0.2021013  -0.20884371  0.22313559  0.063833    0.11680813\n",
            " -0.1961179   0.21967323  0.08330259  0.04123194 -0.3817791   0.00684792\n",
            "  0.24589726 -0.34328413  0.42032534 -0.11926179 -0.20930126  0.1347318\n",
            "  0.05289205  0.34496856  0.3008886   0.27931306 -0.26351586 -0.15168177\n",
            " -0.0012757   0.1443827   0.37768325  0.04070127  0.07821997  0.18220745\n",
            "  0.43159097  0.1076872  -0.06680385  0.42220947 -0.0832241   0.27756986\n",
            " -0.1328039  -0.05585801 -0.2505818   0.00935715  0.44888362  0.34800592\n",
            "  0.27139512 -0.34358618 -0.44563076 -0.38521528 -0.00263982  0.24495612\n",
            "  0.09493474  0.34733567 -0.34004763 -0.03008339 -0.03593203 -0.07774346\n",
            "  0.1380637   0.45925525  0.00575976 -0.01423884 -0.24423718 -0.4845207\n",
            " -0.13156068  0.03177777  0.0445961   0.00944288 -0.10642554 -0.08580809\n",
            " -0.39686424  0.07146067  0.11768311 -0.25210264 -0.20681892  0.21537891\n",
            " -0.02782098  0.03124109 -0.44252542 -0.06079897 -0.24687433 -0.02573096\n",
            " -0.08582556 -0.07429188  0.06157174  0.2542715  -0.03937813 -0.24998963\n",
            " -0.17949282  0.05513135  0.31306234 -0.09680446  0.12728456 -0.31780884\n",
            " -0.25184643  0.02335135  0.23808146  0.10587384  0.15736082  0.31954965\n",
            "  0.26874906 -0.24173324 -0.09339853 -0.07003758 -0.13876    -0.2201091\n",
            "  0.17586565  0.29692826 -0.06784917  0.1606556  -0.55839914  0.41751024\n",
            "  0.03730217 -0.13828887 -0.1042841   0.51300853  0.15741079  0.22903763\n",
            " -0.00432677 -0.25251302  0.07966437 -0.12467857 -0.15435295  0.08701383\n",
            "  0.1752601  -0.24405639  0.29969582  0.62700576  0.4139654  -0.05816958]\n",
            "\n"
          ]
        }
      ],
      "source": [
        "#Print the embeddings\n",
        "for sentence, embedding in zip(rick_and_morty_quotes[:3], embeddings[:3]):\n",
        "    print(\"Sentence:\", sentence)\n",
        "    print(\"Embedding:\", embedding)\n",
        "    print(\"\")"
      ]
    },
    {
      "cell_type": "markdown",
      "id": "c381a689",
      "metadata": {
        "id": "c381a689"
      },
      "source": [
        "https://www.sbert.net/docs/pretrained_models.html\n"
      ]
    },
    {
      "cell_type": "markdown",
      "id": "dac48268",
      "metadata": {
        "id": "dac48268"
      },
      "source": [
        "How many dimensions is each embedding?"
      ]
    },
    {
      "cell_type": "code",
      "execution_count": null,
      "id": "75483633",
      "metadata": {
        "scrolled": true,
        "id": "75483633",
        "outputId": "30758660-3855-4849-998a-db0f0d56854d"
      },
      "outputs": [
        {
          "data": {
            "text/plain": [
              "384"
            ]
          },
          "execution_count": 9,
          "metadata": {},
          "output_type": "execute_result"
        }
      ],
      "source": [
        "len(embeddings[0])"
      ]
    },
    {
      "cell_type": "markdown",
      "id": "7351f48e",
      "metadata": {
        "id": "7351f48e"
      },
      "source": [
        "Are the embeddings normalized already?\n",
        "\n",
        " No they're not. We may want to add a step in the embedding function to normalize all vectors. OR we use cosine instead of Euclidean distance"
      ]
    },
    {
      "cell_type": "code",
      "execution_count": null,
      "id": "e2de9ff8",
      "metadata": {
        "id": "e2de9ff8",
        "outputId": "aaf25ea5-7173-4b0e-85f9-6021fbcacea7"
      },
      "outputs": [
        {
          "data": {
            "text/plain": [
              "array([5.5780635, 4.8029375, 4.740227 , 5.141901 , 7.0889506, 4.5193715,\n",
              "       4.1849637, 5.134199 , 4.96831  , 5.2417045, 5.5314946, 4.3252525,\n",
              "       6.9031262, 5.592641 , 5.2046595, 5.814751 , 6.899495 , 5.7716303,\n",
              "       6.3855267, 5.230854 , 6.5764093, 5.3486414, 6.0708685, 7.759795 ,\n",
              "       4.240743 , 4.5965443, 5.9753222, 4.7049956, 5.027794 , 7.618719 ,\n",
              "       5.839973 , 5.6741776, 5.225594 , 6.63086  , 7.2901545, 5.076945 ,\n",
              "       7.415248 , 5.5012593, 4.7184825, 5.834399 , 4.63456  , 5.4468746,\n",
              "       5.329064 , 4.7717104, 5.175283 , 5.1571107, 6.2419677, 5.877234 ,\n",
              "       4.933059 , 7.883933 , 4.9240727, 6.0574803, 4.257354 , 5.084045 ,\n",
              "       5.6248083, 4.061501 , 5.489659 , 4.0482764], dtype=float32)"
            ]
          },
          "execution_count": 10,
          "metadata": {},
          "output_type": "execute_result"
        }
      ],
      "source": [
        "np.linalg.norm(embeddings, axis=1)"
      ]
    },
    {
      "cell_type": "markdown",
      "id": "2e684888",
      "metadata": {
        "id": "2e684888"
      },
      "source": [
        "### Let's put it all together\n",
        "\n",
        "First let's encode the question"
      ]
    },
    {
      "cell_type": "code",
      "execution_count": null,
      "id": "b1f72519",
      "metadata": {
        "id": "b1f72519"
      },
      "outputs": [],
      "source": [
        "query_text = \"Are you the cause of your parents' misery?\"\n",
        "query_embedding = model.encode(query_text)"
      ]
    },
    {
      "cell_type": "markdown",
      "id": "7c588435",
      "metadata": {
        "id": "7c588435"
      },
      "source": [
        "Now we can reuse the find_nearest_neighbors function we wrote above.\n",
        "\n",
        "However, that only returns the vectors, whereas we also want the quotes. So we rewrite the find_nearest_neighbors function to return the *indices* of the nearest neighbors."
      ]
    },
    {
      "cell_type": "code",
      "execution_count": null,
      "id": "1160516a",
      "metadata": {
        "id": "1160516a"
      },
      "outputs": [],
      "source": [
        "import numpy as np\n",
        "\n",
        "def euclidean_distance(v1: np.ndarray, v2: np.ndarray) -> float:\n",
        "    \"\"\"\n",
        "    Compute the Euclidean distance between two vectors.\n",
        "\n",
        "    Parameters\n",
        "    ----------\n",
        "    v1 : np.ndarray\n",
        "        First vector.\n",
        "    v2 : np.ndarray\n",
        "        Second vector.\n",
        "\n",
        "    Returns\n",
        "    -------\n",
        "    float\n",
        "        Euclidean distance between `v1` and `v2`.\n",
        "    \"\"\"\n",
        "    dist = v1 - v2\n",
        "    return np.linalg.norm(dist, axis=len(dist.shape)-1)\n",
        "\n",
        "\n",
        "def find_nearest_neighbors(query: np.ndarray,\n",
        "                           vectors: np.ndarray,\n",
        "                           k: int = 1) -> np.ndarray:\n",
        "    \"\"\"\n",
        "    Find k-nearest neighbors of a query vector.\n",
        "\n",
        "    Parameters\n",
        "    ----------\n",
        "    query : np.ndarray\n",
        "        Query vector.\n",
        "    vectors : np.ndarray\n",
        "        Vectors to search.\n",
        "    k : int, optional\n",
        "        Number of nearest neighbors to return, by default 1.\n",
        "\n",
        "    Returns\n",
        "    -------\n",
        "    np.ndarray\n",
        "        The `k` nearest neighbors of `query` in `vectors`.\n",
        "    \"\"\"\n",
        "    distances = euclidean_distance(query, vectors)\n",
        "    return np.argsort(distances)[:k]"
      ]
    },
    {
      "cell_type": "code",
      "execution_count": null,
      "id": "69094a75",
      "metadata": {
        "id": "69094a75"
      },
      "outputs": [],
      "source": [
        "indices = find_nearest_neighbors(query_embedding, embeddings, k=3)"
      ]
    },
    {
      "cell_type": "code",
      "execution_count": null,
      "id": "6dea7d4a",
      "metadata": {
        "id": "6dea7d4a",
        "outputId": "46992a8e-5d99-4a50-90a5-0d2195329f7a"
      },
      "outputs": [
        {
          "name": "stdout",
          "output_type": "stream",
          "text": [
            "You're not the cause of your parents' misery. You're just a symptom of it.\n",
            "\n",
            "Having a family doesn't mean that you stop being an individual. You know the best thing you can do for the people that depend on you? Be honest with them, even if it means setting them free.\n",
            "\n",
            "B—h, my generation gets traumatized for breakfast.\n",
            "\n"
          ]
        }
      ],
      "source": [
        "for i in indices:\n",
        "    print(rick_and_morty_quotes[i])"
      ]
    },
    {
      "cell_type": "code",
      "execution_count": null,
      "id": "eaed15c0",
      "metadata": {
        "id": "eaed15c0"
      },
      "outputs": [],
      "source": []
    }
  ],
  "metadata": {
    "kernelspec": {
      "display_name": "Python 3 (ipykernel)",
      "language": "python",
      "name": "python3"
    },
    "language_info": {
      "codemirror_mode": {
        "name": "ipython",
        "version": 3
      },
      "file_extension": ".py",
      "mimetype": "text/x-python",
      "name": "python",
      "nbconvert_exporter": "python",
      "pygments_lexer": "ipython3",
      "version": "3.10.11"
    },
    "colab": {
      "provenance": []
    }
  },
  "nbformat": 4,
  "nbformat_minor": 5
}